{
  "nbformat": 4,
  "nbformat_minor": 0,
  "metadata": {
    "colab": {
      "name": "Full Model: Stock Prediction + Weights.ipynb",
      "provenance": [],
      "collapsed_sections": [
        "Mjs0YdiDmaAN",
        "Wd_PoWG-m9qy",
        "yo4Adao2Ucfd",
        "7yZq0QP-JgdB"
      ],
      "machine_shape": "hm",
      "include_colab_link": true
    },
    "kernelspec": {
      "name": "python3",
      "display_name": "Python 3"
    },
    "accelerator": "GPU"
  },
  "cells": [
    {
      "cell_type": "markdown",
      "metadata": {
        "id": "view-in-github",
        "colab_type": "text"
      },
      "source": [
        "<a href=\"https://colab.research.google.com/github/HEXNANO69/CheckList/blob/main/Full_Model_Stock_Prediction_%2B_Weights.ipynb\" target=\"_parent\"><img src=\"https://colab.research.google.com/assets/colab-badge.svg\" alt=\"Open In Colab\"/></a>"
      ]
    },
    {
      "cell_type": "markdown",
      "metadata": {
        "id": "P0nQZTjziHer"
      },
      "source": [
        "### GPU Available?"
      ]
    },
    {
      "cell_type": "code",
      "metadata": {
        "colab": {
          "base_uri": "https://localhost:8080/"
        },
        "id": "cQChsjb-iGwX",
        "outputId": "e8459c7e-8621-4f3a-adf9-2146a234c4a0"
      },
      "source": [
        "from tensorflow.python.client import device_lib\n",
        "print(device_lib.list_local_devices())"
      ],
      "execution_count": 9,
      "outputs": [
        {
          "output_type": "stream",
          "name": "stdout",
          "text": [
            "[name: \"/device:CPU:0\"\n",
            "device_type: \"CPU\"\n",
            "memory_limit: 268435456\n",
            "locality {\n",
            "}\n",
            "incarnation: 12167348947992985430\n",
            "xla_global_id: -1\n",
            ", name: \"/device:GPU:0\"\n",
            "device_type: \"GPU\"\n",
            "memory_limit: 14619377664\n",
            "locality {\n",
            "  bus_id: 1\n",
            "  links {\n",
            "  }\n",
            "}\n",
            "incarnation: 17242160750792632982\n",
            "physical_device_desc: \"device: 0, name: Tesla T4, pci bus id: 0000:00:04.0, compute capability: 7.5\"\n",
            "xla_global_id: 416903419\n",
            "]\n"
          ]
        }
      ]
    },
    {
      "cell_type": "markdown",
      "metadata": {
        "id": "ZM9x0IGpV2MD"
      },
      "source": [
        "### Data Pulling"
      ]
    },
    {
      "cell_type": "code",
      "metadata": {
        "id": "cJmrAB6CUyQ2"
      },
      "source": [
        "from pydrive.auth import GoogleAuth\n",
        "from pydrive.drive import GoogleDrive\n",
        "from google.colab import auth\n",
        "from oauth2client.client import GoogleCredentials\n",
        "\n",
        "\n",
        "# Authenticate and create the PyDrive client.\n",
        "auth.authenticate_user()\n",
        "gauth = GoogleAuth()\n",
        "gauth.credentials = GoogleCredentials.get_application_default()\n",
        "drive = GoogleDrive(gauth)"
      ],
      "execution_count": 10,
      "outputs": []
    },
    {
      "cell_type": "code",
      "metadata": {
        "id": "SL7CkZVeVmdA"
      },
      "source": [
        "#This part linkes the dataset in the drive to the google colab file\n",
        "link = 'https://drive.google.com/file/d/1GcjfPLBNwpf7h2ngSx7yc6quFqXjvxiz/view?usp=drive_link'\n",
        "id = link.split('/')[-2]\n",
        "downloaded = drive.CreateFile({'id' : id})\n",
        "downloaded.GetContentFile('StockPrices.csv')"
      ],
      "execution_count": 11,
      "outputs": []
    },
    {
      "cell_type": "code",
      "metadata": {
        "colab": {
          "base_uri": "https://localhost:8080/"
        },
        "id": "VPJRYLd_VoYt",
        "outputId": "d4f03cb2-7c15-43ac-a4d7-36a172556309"
      },
      "source": [
        "import pandas as pd\n",
        "import numpy as np\n",
        "import matplotlib.pyplot as plt\n",
        "import seaborn as sns\n",
        "%matplotlib inline\n",
        "\n",
        "df = pd.read_csv('StockPrices.csv')\n",
        "df['Date']= pd.to_datetime(df['Date'])\n",
        "df_close = df[['Date', 'Index', 'Close']]\n",
        "df_close.info()"
      ],
      "execution_count": 12,
      "outputs": [
        {
          "output_type": "stream",
          "name": "stdout",
          "text": [
            "<class 'pandas.core.frame.DataFrame'>\n",
            "RangeIndex: 15087 entries, 0 to 15086\n",
            "Data columns (total 3 columns):\n",
            " #   Column  Non-Null Count  Dtype         \n",
            "---  ------  --------------  -----         \n",
            " 0   Date    15087 non-null  datetime64[ns]\n",
            " 1   Index   15087 non-null  object        \n",
            " 2   Close   15087 non-null  float64       \n",
            "dtypes: datetime64[ns](1), float64(1), object(1)\n",
            "memory usage: 353.7+ KB\n"
          ]
        }
      ]
    },
    {
      "cell_type": "markdown",
      "metadata": {
        "id": "1IbYpqWzV6_v"
      },
      "source": [
        "## Stock Prices"
      ]
    },
    {
      "cell_type": "code",
      "metadata": {
        "id": "wSJ1cUT5V9PT"
      },
      "source": [
        "df_close = df_close.pivot_table(index = 'Date',columns = 'Index').dropna(axis = 'columns')"
      ],
      "execution_count": 13,
      "outputs": []
    },
    {
      "cell_type": "code",
      "metadata": {
        "colab": {
          "base_uri": "https://localhost:8080/",
          "height": 486
        },
        "id": "PyQtn4Y7WGuz",
        "outputId": "4db02aa4-e987-40ff-a348-7bc3336e7ce1"
      },
      "source": [
        "df_close #Removal of Unneccessary Stocks"
      ],
      "execution_count": 14,
      "outputs": [
        {
          "output_type": "execute_result",
          "data": {
            "text/plain": [
              "                 Close                        \n",
              "Index             AAPL        AMZN        GOOG\n",
              "Date                                          \n",
              "2005-02-28    1.602143    1.759000    4.682200\n",
              "2005-03-01    1.589286    1.769500    4.634130\n",
              "2005-03-02    1.575714    1.775000    4.612212\n",
              "2005-03-03    1.492500    1.782500    4.657791\n",
              "2005-03-04    1.528929    1.792500    4.630145\n",
              "...                ...         ...         ...\n",
              "2025-02-14  244.600006  228.679993  186.869995\n",
              "2025-02-18  244.470001  226.649994  185.800003\n",
              "2025-02-19  244.869995  226.630005  187.130005\n",
              "2025-02-20  245.830002  222.880005  186.639999\n",
              "2025-02-21  245.550003  216.580002  181.580002\n",
              "\n",
              "[5029 rows x 3 columns]"
            ],
            "text/html": [
              "\n",
              "  <div id=\"df-e900ff46-e81d-4d89-8429-05d09494affd\" class=\"colab-df-container\">\n",
              "    <div>\n",
              "<style scoped>\n",
              "    .dataframe tbody tr th:only-of-type {\n",
              "        vertical-align: middle;\n",
              "    }\n",
              "\n",
              "    .dataframe tbody tr th {\n",
              "        vertical-align: top;\n",
              "    }\n",
              "\n",
              "    .dataframe thead tr th {\n",
              "        text-align: left;\n",
              "    }\n",
              "\n",
              "    .dataframe thead tr:last-of-type th {\n",
              "        text-align: right;\n",
              "    }\n",
              "</style>\n",
              "<table border=\"1\" class=\"dataframe\">\n",
              "  <thead>\n",
              "    <tr>\n",
              "      <th></th>\n",
              "      <th colspan=\"3\" halign=\"left\">Close</th>\n",
              "    </tr>\n",
              "    <tr>\n",
              "      <th>Index</th>\n",
              "      <th>AAPL</th>\n",
              "      <th>AMZN</th>\n",
              "      <th>GOOG</th>\n",
              "    </tr>\n",
              "    <tr>\n",
              "      <th>Date</th>\n",
              "      <th></th>\n",
              "      <th></th>\n",
              "      <th></th>\n",
              "    </tr>\n",
              "  </thead>\n",
              "  <tbody>\n",
              "    <tr>\n",
              "      <th>2005-02-28</th>\n",
              "      <td>1.602143</td>\n",
              "      <td>1.759000</td>\n",
              "      <td>4.682200</td>\n",
              "    </tr>\n",
              "    <tr>\n",
              "      <th>2005-03-01</th>\n",
              "      <td>1.589286</td>\n",
              "      <td>1.769500</td>\n",
              "      <td>4.634130</td>\n",
              "    </tr>\n",
              "    <tr>\n",
              "      <th>2005-03-02</th>\n",
              "      <td>1.575714</td>\n",
              "      <td>1.775000</td>\n",
              "      <td>4.612212</td>\n",
              "    </tr>\n",
              "    <tr>\n",
              "      <th>2005-03-03</th>\n",
              "      <td>1.492500</td>\n",
              "      <td>1.782500</td>\n",
              "      <td>4.657791</td>\n",
              "    </tr>\n",
              "    <tr>\n",
              "      <th>2005-03-04</th>\n",
              "      <td>1.528929</td>\n",
              "      <td>1.792500</td>\n",
              "      <td>4.630145</td>\n",
              "    </tr>\n",
              "    <tr>\n",
              "      <th>...</th>\n",
              "      <td>...</td>\n",
              "      <td>...</td>\n",
              "      <td>...</td>\n",
              "    </tr>\n",
              "    <tr>\n",
              "      <th>2025-02-14</th>\n",
              "      <td>244.600006</td>\n",
              "      <td>228.679993</td>\n",
              "      <td>186.869995</td>\n",
              "    </tr>\n",
              "    <tr>\n",
              "      <th>2025-02-18</th>\n",
              "      <td>244.470001</td>\n",
              "      <td>226.649994</td>\n",
              "      <td>185.800003</td>\n",
              "    </tr>\n",
              "    <tr>\n",
              "      <th>2025-02-19</th>\n",
              "      <td>244.869995</td>\n",
              "      <td>226.630005</td>\n",
              "      <td>187.130005</td>\n",
              "    </tr>\n",
              "    <tr>\n",
              "      <th>2025-02-20</th>\n",
              "      <td>245.830002</td>\n",
              "      <td>222.880005</td>\n",
              "      <td>186.639999</td>\n",
              "    </tr>\n",
              "    <tr>\n",
              "      <th>2025-02-21</th>\n",
              "      <td>245.550003</td>\n",
              "      <td>216.580002</td>\n",
              "      <td>181.580002</td>\n",
              "    </tr>\n",
              "  </tbody>\n",
              "</table>\n",
              "<p>5029 rows × 3 columns</p>\n",
              "</div>\n",
              "    <div class=\"colab-df-buttons\">\n",
              "\n",
              "  <div class=\"colab-df-container\">\n",
              "    <button class=\"colab-df-convert\" onclick=\"convertToInteractive('df-e900ff46-e81d-4d89-8429-05d09494affd')\"\n",
              "            title=\"Convert this dataframe to an interactive table.\"\n",
              "            style=\"display:none;\">\n",
              "\n",
              "  <svg xmlns=\"http://www.w3.org/2000/svg\" height=\"24px\" viewBox=\"0 -960 960 960\">\n",
              "    <path d=\"M120-120v-720h720v720H120Zm60-500h600v-160H180v160Zm220 220h160v-160H400v160Zm0 220h160v-160H400v160ZM180-400h160v-160H180v160Zm440 0h160v-160H620v160ZM180-180h160v-160H180v160Zm440 0h160v-160H620v160Z\"/>\n",
              "  </svg>\n",
              "    </button>\n",
              "\n",
              "  <style>\n",
              "    .colab-df-container {\n",
              "      display:flex;\n",
              "      gap: 12px;\n",
              "    }\n",
              "\n",
              "    .colab-df-convert {\n",
              "      background-color: #E8F0FE;\n",
              "      border: none;\n",
              "      border-radius: 50%;\n",
              "      cursor: pointer;\n",
              "      display: none;\n",
              "      fill: #1967D2;\n",
              "      height: 32px;\n",
              "      padding: 0 0 0 0;\n",
              "      width: 32px;\n",
              "    }\n",
              "\n",
              "    .colab-df-convert:hover {\n",
              "      background-color: #E2EBFA;\n",
              "      box-shadow: 0px 1px 2px rgba(60, 64, 67, 0.3), 0px 1px 3px 1px rgba(60, 64, 67, 0.15);\n",
              "      fill: #174EA6;\n",
              "    }\n",
              "\n",
              "    .colab-df-buttons div {\n",
              "      margin-bottom: 4px;\n",
              "    }\n",
              "\n",
              "    [theme=dark] .colab-df-convert {\n",
              "      background-color: #3B4455;\n",
              "      fill: #D2E3FC;\n",
              "    }\n",
              "\n",
              "    [theme=dark] .colab-df-convert:hover {\n",
              "      background-color: #434B5C;\n",
              "      box-shadow: 0px 1px 3px 1px rgba(0, 0, 0, 0.15);\n",
              "      filter: drop-shadow(0px 1px 2px rgba(0, 0, 0, 0.3));\n",
              "      fill: #FFFFFF;\n",
              "    }\n",
              "  </style>\n",
              "\n",
              "    <script>\n",
              "      const buttonEl =\n",
              "        document.querySelector('#df-e900ff46-e81d-4d89-8429-05d09494affd button.colab-df-convert');\n",
              "      buttonEl.style.display =\n",
              "        google.colab.kernel.accessAllowed ? 'block' : 'none';\n",
              "\n",
              "      async function convertToInteractive(key) {\n",
              "        const element = document.querySelector('#df-e900ff46-e81d-4d89-8429-05d09494affd');\n",
              "        const dataTable =\n",
              "          await google.colab.kernel.invokeFunction('convertToInteractive',\n",
              "                                                    [key], {});\n",
              "        if (!dataTable) return;\n",
              "\n",
              "        const docLinkHtml = 'Like what you see? Visit the ' +\n",
              "          '<a target=\"_blank\" href=https://colab.research.google.com/notebooks/data_table.ipynb>data table notebook</a>'\n",
              "          + ' to learn more about interactive tables.';\n",
              "        element.innerHTML = '';\n",
              "        dataTable['output_type'] = 'display_data';\n",
              "        await google.colab.output.renderOutput(dataTable, element);\n",
              "        const docLink = document.createElement('div');\n",
              "        docLink.innerHTML = docLinkHtml;\n",
              "        element.appendChild(docLink);\n",
              "      }\n",
              "    </script>\n",
              "  </div>\n",
              "\n",
              "\n",
              "<div id=\"df-3814eea4-c0e3-44be-bf33-e4d299a4a2b3\">\n",
              "  <button class=\"colab-df-quickchart\" onclick=\"quickchart('df-3814eea4-c0e3-44be-bf33-e4d299a4a2b3')\"\n",
              "            title=\"Suggest charts\"\n",
              "            style=\"display:none;\">\n",
              "\n",
              "<svg xmlns=\"http://www.w3.org/2000/svg\" height=\"24px\"viewBox=\"0 0 24 24\"\n",
              "     width=\"24px\">\n",
              "    <g>\n",
              "        <path d=\"M19 3H5c-1.1 0-2 .9-2 2v14c0 1.1.9 2 2 2h14c1.1 0 2-.9 2-2V5c0-1.1-.9-2-2-2zM9 17H7v-7h2v7zm4 0h-2V7h2v10zm4 0h-2v-4h2v4z\"/>\n",
              "    </g>\n",
              "</svg>\n",
              "  </button>\n",
              "\n",
              "<style>\n",
              "  .colab-df-quickchart {\n",
              "      --bg-color: #E8F0FE;\n",
              "      --fill-color: #1967D2;\n",
              "      --hover-bg-color: #E2EBFA;\n",
              "      --hover-fill-color: #174EA6;\n",
              "      --disabled-fill-color: #AAA;\n",
              "      --disabled-bg-color: #DDD;\n",
              "  }\n",
              "\n",
              "  [theme=dark] .colab-df-quickchart {\n",
              "      --bg-color: #3B4455;\n",
              "      --fill-color: #D2E3FC;\n",
              "      --hover-bg-color: #434B5C;\n",
              "      --hover-fill-color: #FFFFFF;\n",
              "      --disabled-bg-color: #3B4455;\n",
              "      --disabled-fill-color: #666;\n",
              "  }\n",
              "\n",
              "  .colab-df-quickchart {\n",
              "    background-color: var(--bg-color);\n",
              "    border: none;\n",
              "    border-radius: 50%;\n",
              "    cursor: pointer;\n",
              "    display: none;\n",
              "    fill: var(--fill-color);\n",
              "    height: 32px;\n",
              "    padding: 0;\n",
              "    width: 32px;\n",
              "  }\n",
              "\n",
              "  .colab-df-quickchart:hover {\n",
              "    background-color: var(--hover-bg-color);\n",
              "    box-shadow: 0 1px 2px rgba(60, 64, 67, 0.3), 0 1px 3px 1px rgba(60, 64, 67, 0.15);\n",
              "    fill: var(--button-hover-fill-color);\n",
              "  }\n",
              "\n",
              "  .colab-df-quickchart-complete:disabled,\n",
              "  .colab-df-quickchart-complete:disabled:hover {\n",
              "    background-color: var(--disabled-bg-color);\n",
              "    fill: var(--disabled-fill-color);\n",
              "    box-shadow: none;\n",
              "  }\n",
              "\n",
              "  .colab-df-spinner {\n",
              "    border: 2px solid var(--fill-color);\n",
              "    border-color: transparent;\n",
              "    border-bottom-color: var(--fill-color);\n",
              "    animation:\n",
              "      spin 1s steps(1) infinite;\n",
              "  }\n",
              "\n",
              "  @keyframes spin {\n",
              "    0% {\n",
              "      border-color: transparent;\n",
              "      border-bottom-color: var(--fill-color);\n",
              "      border-left-color: var(--fill-color);\n",
              "    }\n",
              "    20% {\n",
              "      border-color: transparent;\n",
              "      border-left-color: var(--fill-color);\n",
              "      border-top-color: var(--fill-color);\n",
              "    }\n",
              "    30% {\n",
              "      border-color: transparent;\n",
              "      border-left-color: var(--fill-color);\n",
              "      border-top-color: var(--fill-color);\n",
              "      border-right-color: var(--fill-color);\n",
              "    }\n",
              "    40% {\n",
              "      border-color: transparent;\n",
              "      border-right-color: var(--fill-color);\n",
              "      border-top-color: var(--fill-color);\n",
              "    }\n",
              "    60% {\n",
              "      border-color: transparent;\n",
              "      border-right-color: var(--fill-color);\n",
              "    }\n",
              "    80% {\n",
              "      border-color: transparent;\n",
              "      border-right-color: var(--fill-color);\n",
              "      border-bottom-color: var(--fill-color);\n",
              "    }\n",
              "    90% {\n",
              "      border-color: transparent;\n",
              "      border-bottom-color: var(--fill-color);\n",
              "    }\n",
              "  }\n",
              "</style>\n",
              "\n",
              "  <script>\n",
              "    async function quickchart(key) {\n",
              "      const quickchartButtonEl =\n",
              "        document.querySelector('#' + key + ' button');\n",
              "      quickchartButtonEl.disabled = true;  // To prevent multiple clicks.\n",
              "      quickchartButtonEl.classList.add('colab-df-spinner');\n",
              "      try {\n",
              "        const charts = await google.colab.kernel.invokeFunction(\n",
              "            'suggestCharts', [key], {});\n",
              "      } catch (error) {\n",
              "        console.error('Error during call to suggestCharts:', error);\n",
              "      }\n",
              "      quickchartButtonEl.classList.remove('colab-df-spinner');\n",
              "      quickchartButtonEl.classList.add('colab-df-quickchart-complete');\n",
              "    }\n",
              "    (() => {\n",
              "      let quickchartButtonEl =\n",
              "        document.querySelector('#df-3814eea4-c0e3-44be-bf33-e4d299a4a2b3 button');\n",
              "      quickchartButtonEl.style.display =\n",
              "        google.colab.kernel.accessAllowed ? 'block' : 'none';\n",
              "    })();\n",
              "  </script>\n",
              "</div>\n",
              "\n",
              "  <div id=\"id_f47bf1ce-1248-4c02-99dc-dcf0c023f78c\">\n",
              "    <style>\n",
              "      .colab-df-generate {\n",
              "        background-color: #E8F0FE;\n",
              "        border: none;\n",
              "        border-radius: 50%;\n",
              "        cursor: pointer;\n",
              "        display: none;\n",
              "        fill: #1967D2;\n",
              "        height: 32px;\n",
              "        padding: 0 0 0 0;\n",
              "        width: 32px;\n",
              "      }\n",
              "\n",
              "      .colab-df-generate:hover {\n",
              "        background-color: #E2EBFA;\n",
              "        box-shadow: 0px 1px 2px rgba(60, 64, 67, 0.3), 0px 1px 3px 1px rgba(60, 64, 67, 0.15);\n",
              "        fill: #174EA6;\n",
              "      }\n",
              "\n",
              "      [theme=dark] .colab-df-generate {\n",
              "        background-color: #3B4455;\n",
              "        fill: #D2E3FC;\n",
              "      }\n",
              "\n",
              "      [theme=dark] .colab-df-generate:hover {\n",
              "        background-color: #434B5C;\n",
              "        box-shadow: 0px 1px 3px 1px rgba(0, 0, 0, 0.15);\n",
              "        filter: drop-shadow(0px 1px 2px rgba(0, 0, 0, 0.3));\n",
              "        fill: #FFFFFF;\n",
              "      }\n",
              "    </style>\n",
              "    <button class=\"colab-df-generate\" onclick=\"generateWithVariable('df_close')\"\n",
              "            title=\"Generate code using this dataframe.\"\n",
              "            style=\"display:none;\">\n",
              "\n",
              "  <svg xmlns=\"http://www.w3.org/2000/svg\" height=\"24px\"viewBox=\"0 0 24 24\"\n",
              "       width=\"24px\">\n",
              "    <path d=\"M7,19H8.4L18.45,9,17,7.55,7,17.6ZM5,21V16.75L18.45,3.32a2,2,0,0,1,2.83,0l1.4,1.43a1.91,1.91,0,0,1,.58,1.4,1.91,1.91,0,0,1-.58,1.4L9.25,21ZM18.45,9,17,7.55Zm-12,3A5.31,5.31,0,0,0,4.9,8.1,5.31,5.31,0,0,0,1,6.5,5.31,5.31,0,0,0,4.9,4.9,5.31,5.31,0,0,0,6.5,1,5.31,5.31,0,0,0,8.1,4.9,5.31,5.31,0,0,0,12,6.5,5.46,5.46,0,0,0,6.5,12Z\"/>\n",
              "  </svg>\n",
              "    </button>\n",
              "    <script>\n",
              "      (() => {\n",
              "      const buttonEl =\n",
              "        document.querySelector('#id_f47bf1ce-1248-4c02-99dc-dcf0c023f78c button.colab-df-generate');\n",
              "      buttonEl.style.display =\n",
              "        google.colab.kernel.accessAllowed ? 'block' : 'none';\n",
              "\n",
              "      buttonEl.onclick = () => {\n",
              "        google.colab.notebook.generateWithVariable('df_close');\n",
              "      }\n",
              "      })();\n",
              "    </script>\n",
              "  </div>\n",
              "\n",
              "    </div>\n",
              "  </div>\n"
            ],
            "application/vnd.google.colaboratory.intrinsic+json": {
              "type": "dataframe",
              "variable_name": "df_close",
              "summary": "{\n  \"name\": \"df_close\",\n  \"rows\": 5029,\n  \"fields\": [\n    {\n      \"column\": [\n        \"Date\",\n        \"\"\n      ],\n      \"properties\": {\n        \"dtype\": \"date\",\n        \"min\": \"2005-02-28 00:00:00\",\n        \"max\": \"2025-02-21 00:00:00\",\n        \"num_unique_values\": 5029,\n        \"samples\": [\n          \"2015-03-11 00:00:00\",\n          \"2016-10-05 00:00:00\",\n          \"2008-09-09 00:00:00\"\n        ],\n        \"semantic_type\": \"\",\n        \"description\": \"\"\n      }\n    },\n    {\n      \"column\": [\n        \"Close\",\n        \"AAPL\"\n      ],\n      \"properties\": {\n        \"dtype\": \"number\",\n        \"std\": 64.9545130612554,\n        \"min\": 1.21892905235291,\n        \"max\": 259.019989013672,\n        \"num_unique_values\": 4804,\n        \"samples\": [\n          4.55607080459595,\n          43.8824996948242,\n          26.7824993133545\n        ],\n        \"semantic_type\": \"\",\n        \"description\": \"\"\n      }\n    },\n    {\n      \"column\": [\n        \"Close\",\n        \"AMZN\"\n      ],\n      \"properties\": {\n        \"dtype\": \"number\",\n        \"std\": 62.187527602890896,\n        \"min\": 1.30350005626678,\n        \"max\": 242.059997558594,\n        \"num_unique_values\": 4810,\n        \"samples\": [\n          10.2244997024536,\n          48.5699996948242,\n          3.97550010681152\n        ],\n        \"semantic_type\": \"\",\n        \"description\": \"\"\n      }\n    },\n    {\n      \"column\": [\n        \"Close\",\n        \"GOOG\"\n      ],\n      \"properties\": {\n        \"dtype\": \"number\",\n        \"std\": 47.95607546668989,\n        \"min\": 4.35841417312622,\n        \"max\": 207.710006713867,\n        \"num_unique_values\": 4929,\n        \"samples\": [\n          187.389999389648,\n          53.4365005493164,\n          9.97560882568359\n        ],\n        \"semantic_type\": \"\",\n        \"description\": \"\"\n      }\n    }\n  ]\n}"
            }
          },
          "metadata": {},
          "execution_count": 14
        }
      ]
    },
    {
      "cell_type": "code",
      "metadata": {
        "id": "yk6gKYfzGOK6"
      },
      "source": [
        "#Saving Trading Days\n",
        "dates = df_close.index\n",
        "\n",
        "#Saving Stocks\n",
        "stocks = df_close.droplevel(0,1).columns"
      ],
      "execution_count": 15,
      "outputs": []
    },
    {
      "cell_type": "markdown",
      "metadata": {
        "id": "H1LGWDFpWbLT"
      },
      "source": [
        "### Data Manipulation\n",
        "- Training/Testing Data\n",
        "- Scaling the data (MinMaxScaler)"
      ]
    },
    {
      "cell_type": "markdown",
      "metadata": {
        "id": "-4iOzFuKzc2F"
      },
      "source": [
        "### Training/ Validation/ Test Set + Scaling the Data"
      ]
    },
    {
      "cell_type": "code",
      "metadata": {
        "id": "8S7UjrVFW8bK"
      },
      "source": [
        "from sklearn.model_selection import train_test_split\n",
        "#Division of data\n",
        "# df_close = df_close.to_numpy()\n",
        "array_train, array_test = train_test_split(df_close, shuffle = False)"
      ],
      "execution_count": 16,
      "outputs": []
    },
    {
      "cell_type": "code",
      "metadata": {
        "colab": {
          "base_uri": "https://localhost:8080/"
        },
        "id": "D1N1paWFPRsC",
        "outputId": "4c481361-66cf-4778-8996-47325af98a82"
      },
      "source": [
        "array_train.shape"
      ],
      "execution_count": 17,
      "outputs": [
        {
          "output_type": "execute_result",
          "data": {
            "text/plain": [
              "(3771, 3)"
            ]
          },
          "metadata": {},
          "execution_count": 17
        }
      ]
    },
    {
      "cell_type": "code",
      "metadata": {
        "id": "-icU5T0_emvc"
      },
      "source": [
        "from sklearn.preprocessing import MinMaxScaler\n",
        "scl = MinMaxScaler()\n",
        "array_train = scl.fit_transform(array_train)\n",
        "array_test  = scl.fit_transform(array_test)"
      ],
      "execution_count": 18,
      "outputs": []
    },
    {
      "cell_type": "markdown",
      "metadata": {
        "id": "Glz8O4KUdJcL"
      },
      "source": [
        "# LSTM Stock Prediction"
      ]
    },
    {
      "cell_type": "markdown",
      "metadata": {
        "id": "Qo_hebaNzhGG"
      },
      "source": [
        "### Model Approach"
      ]
    },
    {
      "cell_type": "code",
      "metadata": {
        "id": "fZ8VfGa5fYP9"
      },
      "source": [
        "#Get the data and splits in input X and output Y, by spliting in lookback number of past days as input X\n",
        "#and horizon number of coming days as Y.\n",
        "def processData(data, lookback, horizon,num_companies,jump=1):\n",
        "    X,Y = [],[]\n",
        "    for i in range(0,len(data) -lookback - horizon +1, jump):\n",
        "        X.append(data[i:(i+lookback)])\n",
        "        Y.append(data[(i+lookback):(i+lookback+horizon)])\n",
        "    return np.array(X),np.array(Y)"
      ],
      "execution_count": 19,
      "outputs": []
    },
    {
      "cell_type": "code",
      "metadata": {
        "id": "8Vivvsu4fqir"
      },
      "source": [
        "num_companies = df_close.shape[1]\n",
        "lookback = 252 #How many days of the past can the model see\n",
        "horizon = 30 #How many days into the future are we trying to predict"
      ],
      "execution_count": 20,
      "outputs": []
    },
    {
      "cell_type": "code",
      "metadata": {
        "id": "aREefEBhgC65"
      },
      "source": [
        "# Formation of lookback dataframes and forward dataframes for training, and testing dataset\n",
        "# to calculate accuracy\n",
        "\n",
        "X_test,y_test = processData(array_test,lookback,horizon,num_companies,horizon)\n",
        "y_test = np.array([list(a.ravel()) for a in y_test])\n",
        "\n",
        "X,y = processData(array_train,lookback,horizon,num_companies)\n",
        "y = np.array([list(x.ravel()) for x in y])\n",
        "\n",
        "X_train, X_validate, y_train, y_validate = train_test_split(X, y, test_size=0.20, random_state=1)"
      ],
      "execution_count": 21,
      "outputs": []
    },
    {
      "cell_type": "code",
      "metadata": {
        "colab": {
          "base_uri": "https://localhost:8080/"
        },
        "id": "kFaWQ9tOgsEj",
        "outputId": "e68dd1f9-d172-4e06-8dc1-f6c71c2f2753"
      },
      "source": [
        "print(X_train.shape)\n",
        "print(X_validate.shape)\n",
        "print(X_test.shape)\n",
        "print(y_train.shape)\n",
        "print(y_validate.shape)\n",
        "print(y_test.shape)\n",
        "#(Sample,Timestep,Features)"
      ],
      "execution_count": 22,
      "outputs": [
        {
          "output_type": "stream",
          "name": "stdout",
          "text": [
            "(2792, 252, 3)\n",
            "(698, 252, 3)\n",
            "(33, 252, 3)\n",
            "(2792, 90)\n",
            "(698, 90)\n",
            "(33, 90)\n"
          ]
        }
      ]
    },
    {
      "cell_type": "markdown",
      "metadata": {
        "id": "GmtMFE_vg7-Y"
      },
      "source": [
        "### Training the LSTM"
      ]
    },
    {
      "cell_type": "code",
      "metadata": {
        "id": "JLfjB9A_O3DG",
        "colab": {
          "base_uri": "https://localhost:8080/"
        },
        "outputId": "e9b1ad91-99a8-41a3-8437-ced823c715d9"
      },
      "source": [
        "?LSTM"
      ],
      "execution_count": 23,
      "outputs": [
        {
          "output_type": "stream",
          "name": "stdout",
          "text": [
            "Object `LSTM` not found.\n"
          ]
        }
      ]
    },
    {
      "cell_type": "code",
      "metadata": {
        "id": "g7ePss4QhIQe",
        "colab": {
          "base_uri": "https://localhost:8080/"
        },
        "outputId": "d715c343-e709-4d99-955f-cab4d0441864"
      },
      "source": [
        "from keras.models import Sequential, load_model\n",
        "from keras.layers import LSTM,Dense,Activation,Attention\n",
        "\n",
        "#Model Architecture - Two LSTM layers with x neurons & y epochs\n",
        "num_neurons_L1 = 600\n",
        "num_neurons_L2 = 100\n",
        "EPOCHS = 2\n",
        "\n",
        "#Model\n",
        "model = Sequential()\n",
        "\n",
        "model.add(LSTM(num_neurons_L1,input_shape=(lookback,num_companies), return_sequences=True))\n",
        "model.add(LSTM(num_neurons_L2,input_shape=(num_neurons_L1,1)))\n",
        "model.add(Dense(horizon * num_companies))\n",
        "#model.add(Attention(num_neurons_L2,input_shape=(num_neurons_L1,1)))\n",
        "model.compile(loss='mean_squared_error', optimizer='adam')"
      ],
      "execution_count": 24,
      "outputs": [
        {
          "output_type": "stream",
          "name": "stderr",
          "text": [
            "/usr/local/lib/python3.11/dist-packages/keras/src/layers/rnn/rnn.py:200: UserWarning: Do not pass an `input_shape`/`input_dim` argument to a layer. When using Sequential models, prefer using an `Input(shape)` object as the first layer in the model instead.\n",
            "  super().__init__(**kwargs)\n"
          ]
        }
      ]
    },
    {
      "cell_type": "code",
      "metadata": {
        "colab": {
          "base_uri": "https://localhost:8080/"
        },
        "id": "XU47phEEh0nb",
        "outputId": "1b022dd0-7d91-4cc5-dea0-4697bc6dca78"
      },
      "source": [
        "history = model.fit(X_train,y_train,epochs=EPOCHS,\n",
        "                    validation_data=(X_validate,y_validate),\n",
        "                    shuffle=True,batch_size=1, verbose=2)"
      ],
      "execution_count": 25,
      "outputs": [
        {
          "output_type": "stream",
          "name": "stdout",
          "text": [
            "Epoch 1/2\n",
            "2792/2792 - 79s - 28ms/step - loss: 0.0028 - val_loss: 9.9489e-04\n",
            "Epoch 2/2\n",
            "2792/2792 - 82s - 29ms/step - loss: 0.0012 - val_loss: 0.0025\n"
          ]
        }
      ]
    },
    {
      "cell_type": "markdown",
      "metadata": {
        "id": "3PJ1N9Bunuge"
      },
      "source": [
        "### Training loss"
      ]
    },
    {
      "cell_type": "code",
      "metadata": {
        "colab": {
          "base_uri": "https://localhost:8080/",
          "height": 830
        },
        "id": "ZR2v6RStjjLj",
        "outputId": "8d195273-9f5f-4d56-bff8-8a3a1d7b3d83"
      },
      "source": [
        "plt.figure(figsize = (15,10))\n",
        "\n",
        "plt.plot(history.history['loss'], label='loss')\n",
        "plt.plot(history.history['val_loss'], label='val_loss')\n",
        "plt.legend(loc='best')\n",
        "plt.show()"
      ],
      "execution_count": 26,
      "outputs": [
        {
          "output_type": "display_data",
          "data": {
            "text/plain": [
              "<Figure size 1500x1000 with 1 Axes>"
            ],
            "image/png": "[encoded data removed]"
          },
          "metadata": {}
        }
      ]
    },
    {
      "cell_type": "markdown",
      "metadata": {
        "id": "LWQeHzFijuTn"
      },
      "source": [
        "### Predicting Test Results"
      ]
    },
    {
      "cell_type": "code",
      "metadata": {
        "colab": {
          "base_uri": "https://localhost:8080/"
        },
        "id": "zTwvIkOVjxPK",
        "outputId": "b513715f-b828-47f1-cad3-ff78bc16a50c"
      },
      "source": [
        "X_test,y_test = processData(array_test,lookback,horizon,num_companies,horizon)\n",
        "y_test = np.array([list(a.ravel()) for a in y_test])\n",
        "\n",
        "Xt = model.predict(X_test)\n",
        "Xt.shape"
      ],
      "execution_count": 27,
      "outputs": [
        {
          "output_type": "stream",
          "name": "stdout",
          "text": [
            "\u001b[1m2/2\u001b[0m \u001b[32m━━━━━━━━━━━━━━━━━━━━\u001b[0m\u001b[37m\u001b[0m \u001b[1m0s\u001b[0m 177ms/step\n"
          ]
        },
        {
          "output_type": "execute_result",
          "data": {
            "text/plain": [
              "(33, 90)"
            ]
          },
          "metadata": {},
          "execution_count": 27
        }
      ]
    },
    {
      "cell_type": "markdown",
      "metadata": {
        "id": "q-MFu8-Wj26n"
      },
      "source": [
        "### Un-scaling the data\n",
        "Because the results were scaled to train the model, the output is non sensible until we return the data into its original form"
      ]
    },
    {
      "cell_type": "code",
      "metadata": {
        "id": "YCZa7bH3nrrG"
      },
      "source": [
        "def do_inverse_transform(output_result,num_companies):\n",
        "    #transform to input shape\n",
        "    original_matrix_format = []\n",
        "    for result in output_result:\n",
        "        #do inverse transform\n",
        "        original_matrix_format.append(scl.inverse_transform([result[x:x+num_companies] for x in range(0, len(result), num_companies)]))\n",
        "    original_matrix_format = np.array(original_matrix_format)\n",
        "\n",
        "    #restore to original shape\n",
        "    for i in range(len(original_matrix_format)):\n",
        "        output_result[i] = original_matrix_format[i].ravel()\n",
        "\n",
        "    return output_result"
      ],
      "execution_count": 28,
      "outputs": []
    },
    {
      "cell_type": "code",
      "metadata": {
        "id": "m4IeTsnRoMmt"
      },
      "source": [
        "def prediction_by_step_by_company(raw_model_output, num_companies):\n",
        "    matrix_prediction = []\n",
        "    for i in range(0,num_companies):\n",
        "        matrix_prediction.append([[lista[j] for j in range(i,len(lista),num_companies)] for lista in raw_model_output])\n",
        "    return np.array(matrix_prediction)"
      ],
      "execution_count": 29,
      "outputs": []
    },
    {
      "cell_type": "code",
      "metadata": {
        "colab": {
          "base_uri": "https://localhost:8080/"
        },
        "id": "xUwRD23joasO",
        "outputId": "b33912e8-49bc-4608-9d95-3c02aadea310"
      },
      "source": [
        "Xt = do_inverse_transform(Xt, num_companies)\n",
        "predictions = prediction_by_step_by_company(Xt, num_companies)\n",
        "predictions.shape"
      ],
      "execution_count": 30,
      "outputs": [
        {
          "output_type": "execute_result",
          "data": {
            "text/plain": [
              "(3, 33, 30)"
            ]
          },
          "metadata": {},
          "execution_count": 30
        }
      ]
    },
    {
      "cell_type": "code",
      "metadata": {
        "id": "WUNBSxTNonPf"
      },
      "source": [
        "def target_by_company(raw_model_output, num_companies):\n",
        "    matrix_target = [[] for x in range(num_companies)]\n",
        "\n",
        "    for output in raw_model_output:\n",
        "        for i in range (num_companies):\n",
        "            for j in range(0,len(output),num_companies):\n",
        "                matrix_target[i].append(output[i+j])\n",
        "    return np.array(matrix_target)"
      ],
      "execution_count": 31,
      "outputs": []
    },
    {
      "cell_type": "code",
      "metadata": {
        "colab": {
          "base_uri": "https://localhost:8080/"
        },
        "id": "KwnpZOfKouQ7",
        "outputId": "a314e010-a007-4c08-9f3c-5c92e9b82d89"
      },
      "source": [
        "Yt = do_inverse_transform(y_test, num_companies)\n",
        "\n",
        "actuals = target_by_company(Yt, num_companies)\n",
        "actuals.shape"
      ],
      "execution_count": 32,
      "outputs": [
        {
          "output_type": "execute_result",
          "data": {
            "text/plain": [
              "(3, 990)"
            ]
          },
          "metadata": {},
          "execution_count": 32
        }
      ]
    },
    {
      "cell_type": "code",
      "metadata": {
        "colab": {
          "base_uri": "https://localhost:8080/",
          "height": 830
        },
        "id": "taD2NcrysbYw",
        "outputId": "b77bef30-9386-42ab-9b90-b612446f61de"
      },
      "source": [
        "plt.figure(figsize = (15,10))\n",
        "\n",
        "companies_to_show = [0] #select one of [0,1,2,3] to see only one\n",
        "colors = ['r','g','c','m','y','k','w','b']\n",
        "companies_names = ['A', 'B', 'C', 'D']\n",
        "\n",
        "for id_company in companies_to_show:\n",
        "    for i in range(0,len(predictions[id_company])):\n",
        "        plt.plot([x + i*horizon for x in range(len(predictions[id_company][i]))], predictions[id_company][i], color=colors[id_company])\n",
        "    # plt.plot(0,predictions[id_company][0][0] ,color=colors[id_company], label='predict_{}'.format(companies_names[id_company])) #only to place the label\n",
        "\n",
        "\n",
        "\n",
        "for id_company in companies_to_show:\n",
        "    plt.plot(actuals[id_company], label='target_{}'.format(companies_names[id_company]))\n",
        "\n",
        "plt.legend(loc='best')\n",
        "plt.show()"
      ],
      "execution_count": 33,
      "outputs": [
        {
          "output_type": "display_data",
          "data": {
            "text/plain": [
              "<Figure size 1500x1000 with 1 Axes>"
            ],
            "image/png": "[encoded data removed]"
          },
          "metadata": {}
        }
      ]
    },
    {
      "cell_type": "code",
      "metadata": {
        "id": "ZeFZszhKo9j5"
      },
      "source": [
        "X_all,y_all = processData(scl.fit_transform(df_close),lookback,horizon,num_companies,horizon)\n",
        "y_all = np.array([list(a.ravel()) for a in y_all])"
      ],
      "execution_count": 34,
      "outputs": []
    },
    {
      "cell_type": "code",
      "metadata": {
        "colab": {
          "base_uri": "https://localhost:8080/"
        },
        "id": "mx5EfjXMpdZm",
        "outputId": "4529dc60-b6ef-43a1-b183-d80dca52d8ee"
      },
      "source": [
        "Xt = model.predict(X_all)\n",
        "Xt.shape"
      ],
      "execution_count": 35,
      "outputs": [
        {
          "output_type": "stream",
          "name": "stdout",
          "text": [
            "\u001b[1m5/5\u001b[0m \u001b[32m━━━━━━━━━━━━━━━━━━━━\u001b[0m\u001b[37m\u001b[0m \u001b[1m0s\u001b[0m 36ms/step\n"
          ]
        },
        {
          "output_type": "execute_result",
          "data": {
            "text/plain": [
              "(159, 90)"
            ]
          },
          "metadata": {},
          "execution_count": 35
        }
      ]
    },
    {
      "cell_type": "code",
      "metadata": {
        "colab": {
          "base_uri": "https://localhost:8080/"
        },
        "id": "mZOuyY6gplgY",
        "outputId": "dc09aacb-4326-4c77-de14-eeb7686f30e3"
      },
      "source": [
        "Xt = do_inverse_transform(Xt, num_companies)\n",
        "\n",
        "predictions = prediction_by_step_by_company(Xt, num_companies)\n",
        "predictions.shape\n"
      ],
      "execution_count": 36,
      "outputs": [
        {
          "output_type": "execute_result",
          "data": {
            "text/plain": [
              "(3, 159, 30)"
            ]
          },
          "metadata": {},
          "execution_count": 36
        }
      ]
    },
    {
      "cell_type": "code",
      "metadata": {
        "colab": {
          "base_uri": "https://localhost:8080/"
        },
        "id": "5Q1JgTd2pq1R",
        "outputId": "08be8494-66c4-4273-dd6d-8e377fa45e39"
      },
      "source": [
        "Yt = do_inverse_transform(y_all, num_companies)\n",
        "\n",
        "actuals = target_by_company(Yt, num_companies)\n",
        "actuals.shape"
      ],
      "execution_count": 37,
      "outputs": [
        {
          "output_type": "execute_result",
          "data": {
            "text/plain": [
              "(3, 4770)"
            ]
          },
          "metadata": {},
          "execution_count": 37
        }
      ]
    },
    {
      "cell_type": "code",
      "metadata": {
        "colab": {
          "base_uri": "https://localhost:8080/",
          "height": 830
        },
        "id": "E-CdUYZipvpo",
        "outputId": "5af2d65a-95de-4fdf-ebf7-9fead234a433"
      },
      "source": [
        "plt.figure(figsize = (15,10))\n",
        "\n",
        "companies_to_show = [0]#select one of [0,1,2,3] to see only one\n",
        "colors = ['r','g','c','m','y','k','w','b']\n",
        "companies_names = ['A', 'B', 'C', 'D']\n",
        "\n",
        "\n",
        "for id_company in companies_to_show:\n",
        "    for i in range(0,len(predictions[id_company])):\n",
        "        plt.plot([x + i*horizon for x in range(len(predictions[id_company][i]))], predictions[id_company][i], color=colors[id_company])\n",
        "    plt.plot(0,predictions[id_company][0][0] ,color=colors[id_company], label='predict_{}'.format(companies_names[id_company])) #only to place the label\n",
        "\n",
        "\n",
        "\n",
        "for id_company in companies_to_show:\n",
        "    plt.plot(actuals[id_company], label='target_{}'.format(companies_names[id_company]))\n",
        "\n",
        "plt.legend(loc='best')\n",
        "plt.show()"
      ],
      "execution_count": 38,
      "outputs": [
        {
          "output_type": "display_data",
          "data": {
            "text/plain": [
              "<Figure size 1500x1000 with 1 Axes>"
            ],
            "image/png": "[encoded data removed]"
          },
          "metadata": {}
        }
      ]
    },
    {
      "cell_type": "code",
      "metadata": {
        "id": "5Uo-qnN7mZi4",
        "colab": {
          "base_uri": "https://localhost:8080/"
        },
        "outputId": "a6d88bb4-a84c-40a9-8c77-c83746309662"
      },
      "source": [
        "predicted_prices = np.zeros((predictions.shape[1]*predictions.shape[2],predictions.shape[0]))\n",
        "# actual_prices = []\n",
        "\n",
        "for i in range(predictions.shape[0]):\n",
        "  counter = 0\n",
        "  for j in range(predictions.shape[1]):\n",
        "    for z in range(predictions.shape[2]):\n",
        "      predicted_prices[counter, i] = predictions[i,j,z]\n",
        "      counter+=1\n",
        "\n",
        "print(counter)"
      ],
      "execution_count": 39,
      "outputs": [
        {
          "output_type": "stream",
          "name": "stdout",
          "text": [
            "4770\n"
          ]
        }
      ]
    },
    {
      "cell_type": "code",
      "source": [
        "# Check shapes\n",
        "print(\"Shape of predicted_prices:\", predicted_prices.shape)\n",
        "print(\"Shape of actuals.T:\", actuals.T.shape)\n",
        "print(\"Length of dates[lookback+5:]:\", len(dates[lookback+5:]))\n",
        "\n",
        "# Align shapes for predicted_prices\n",
        "if predicted_prices.shape[0] < len(dates[lookback+5:]):\n",
        "    dates_aligned_pred = dates[lookback+5:lookback+5+predicted_prices.shape[0]]\n",
        "    predicted_prices = pd.DataFrame(data=predicted_prices, columns=stocks, index=dates_aligned_pred)\n",
        "else:\n",
        "    predicted_prices = predicted_prices[:len(dates[lookback+5:])]\n",
        "    predicted_prices = pd.DataFrame(data=predicted_prices, columns=stocks, index=dates[lookback+5:])\n",
        "\n",
        "# Align shapes for actual_prices\n",
        "if actuals.T.shape[0] < len(dates[lookback+5:]):\n",
        "    dates_aligned_actual = dates[lookback+5:lookback+5+actuals.T.shape[0]]\n",
        "    actual_prices = pd.DataFrame(data=actuals.T, columns=stocks, index=dates_aligned_actual)\n",
        "else:\n",
        "    actuals_aligned = actuals.T[:len(dates[lookback+5:])]\n",
        "    actual_prices = pd.DataFrame(data=actuals_aligned, columns=stocks, index=dates[lookback+5:])\n",
        "\n",
        "# Check the final DataFrames\n",
        "print(\"Predicted Prices:\")\n",
        "print(predicted_prices.head())\n",
        "\n",
        "print(\"Actual Prices:\")\n",
        "print(actual_prices.head())"
      ],
      "metadata": {
        "colab": {
          "base_uri": "https://localhost:8080/"
        },
        "id": "s2vzUCQa2jBS",
        "outputId": "ec9a4d49-23ee-45a7-e7a6-c5f739157aaf"
      },
      "execution_count": 52,
      "outputs": [
        {
          "output_type": "stream",
          "name": "stdout",
          "text": [
            "Shape of predicted_prices: (4772, 3)\n",
            "Shape of actuals.T: (4770, 3)\n",
            "Length of dates[lookback+5:]: 4772\n",
            "Predicted Prices:\n",
            "Index           AAPL      AMZN       GOOG\n",
            "Date                                     \n",
            "2006-03-07  5.238496  2.937300  11.916077\n",
            "2006-03-08  6.321126  2.832592  11.257004\n",
            "2006-03-09  5.212017  2.636986  10.900352\n",
            "2006-03-10  5.018359  1.833776  10.164147\n",
            "2006-03-13  4.362165  2.746668  10.225484\n",
            "Actual Prices:\n",
            "Index           AAPL    AMZN      GOOG\n",
            "Date                                  \n",
            "2006-03-07  2.446071  1.8720  9.031647\n",
            "2006-03-08  2.467857  1.8560  9.085944\n",
            "2006-03-09  2.486071  1.8440  9.376106\n",
            "2006-03-10  2.418571  1.8605  9.419195\n",
            "2006-03-13  2.338571  1.8430  9.168136\n"
          ]
        }
      ]
    },
    {
      "cell_type": "code",
      "metadata": {
        "colab": {
          "base_uri": "https://localhost:8080/",
          "height": 455
        },
        "id": "iGcBe-FKsJIn",
        "outputId": "e6ed985c-1cb6-46c1-ebaf-1c319d055102"
      },
      "source": [
        "predicted_prices"
      ],
      "execution_count": 53,
      "outputs": [
        {
          "output_type": "execute_result",
          "data": {
            "text/plain": [
              "Index             AAPL        AMZN        GOOG\n",
              "Date                                          \n",
              "2006-03-07    5.238496    2.937300   11.916077\n",
              "2006-03-08    6.321126    2.832592   11.257004\n",
              "2006-03-09    5.212017    2.636986   10.900352\n",
              "2006-03-10    5.018359    1.833776   10.164147\n",
              "2006-03-13    4.362165    2.746668   10.225484\n",
              "...                ...         ...         ...\n",
              "2025-02-14  213.249710  201.026291  166.399734\n",
              "2025-02-18  210.611450  206.529160  161.826752\n",
              "2025-02-19  213.069595  209.215424  164.908890\n",
              "2025-02-20         NaN         NaN         NaN\n",
              "2025-02-21         NaN         NaN         NaN\n",
              "\n",
              "[4772 rows x 3 columns]"
            ],
            "text/html": [
              "\n",
              "  <div id=\"df-49c5b6d5-b253-455b-988e-b75c1d8c5c6b\" class=\"colab-df-container\">\n",
              "    <div>\n",
              "<style scoped>\n",
              "    .dataframe tbody tr th:only-of-type {\n",
              "        vertical-align: middle;\n",
              "    }\n",
              "\n",
              "    .dataframe tbody tr th {\n",
              "        vertical-align: top;\n",
              "    }\n",
              "\n",
              "    .dataframe thead th {\n",
              "        text-align: right;\n",
              "    }\n",
              "</style>\n",
              "<table border=\"1\" class=\"dataframe\">\n",
              "  <thead>\n",
              "    <tr style=\"text-align: right;\">\n",
              "      <th>Index</th>\n",
              "      <th>AAPL</th>\n",
              "      <th>AMZN</th>\n",
              "      <th>GOOG</th>\n",
              "    </tr>\n",
              "    <tr>\n",
              "      <th>Date</th>\n",
              "      <th></th>\n",
              "      <th></th>\n",
              "      <th></th>\n",
              "    </tr>\n",
              "  </thead>\n",
              "  <tbody>\n",
              "    <tr>\n",
              "      <th>2006-03-07</th>\n",
              "      <td>5.238496</td>\n",
              "      <td>2.937300</td>\n",
              "      <td>11.916077</td>\n",
              "    </tr>\n",
              "    <tr>\n",
              "      <th>2006-03-08</th>\n",
              "      <td>6.321126</td>\n",
              "      <td>2.832592</td>\n",
              "      <td>11.257004</td>\n",
              "    </tr>\n",
              "    <tr>\n",
              "      <th>2006-03-09</th>\n",
              "      <td>5.212017</td>\n",
              "      <td>2.636986</td>\n",
              "      <td>10.900352</td>\n",
              "    </tr>\n",
              "    <tr>\n",
              "      <th>2006-03-10</th>\n",
              "      <td>5.018359</td>\n",
              "      <td>1.833776</td>\n",
              "      <td>10.164147</td>\n",
              "    </tr>\n",
              "    <tr>\n",
              "      <th>2006-03-13</th>\n",
              "      <td>4.362165</td>\n",
              "      <td>2.746668</td>\n",
              "      <td>10.225484</td>\n",
              "    </tr>\n",
              "    <tr>\n",
              "      <th>...</th>\n",
              "      <td>...</td>\n",
              "      <td>...</td>\n",
              "      <td>...</td>\n",
              "    </tr>\n",
              "    <tr>\n",
              "      <th>2025-02-14</th>\n",
              "      <td>213.249710</td>\n",
              "      <td>201.026291</td>\n",
              "      <td>166.399734</td>\n",
              "    </tr>\n",
              "    <tr>\n",
              "      <th>2025-02-18</th>\n",
              "      <td>210.611450</td>\n",
              "      <td>206.529160</td>\n",
              "      <td>161.826752</td>\n",
              "    </tr>\n",
              "    <tr>\n",
              "      <th>2025-02-19</th>\n",
              "      <td>213.069595</td>\n",
              "      <td>209.215424</td>\n",
              "      <td>164.908890</td>\n",
              "    </tr>\n",
              "    <tr>\n",
              "      <th>2025-02-20</th>\n",
              "      <td>NaN</td>\n",
              "      <td>NaN</td>\n",
              "      <td>NaN</td>\n",
              "    </tr>\n",
              "    <tr>\n",
              "      <th>2025-02-21</th>\n",
              "      <td>NaN</td>\n",
              "      <td>NaN</td>\n",
              "      <td>NaN</td>\n",
              "    </tr>\n",
              "  </tbody>\n",
              "</table>\n",
              "<p>4772 rows × 3 columns</p>\n",
              "</div>\n",
              "    <div class=\"colab-df-buttons\">\n",
              "\n",
              "  <div class=\"colab-df-container\">\n",
              "    <button class=\"colab-df-convert\" onclick=\"convertToInteractive('df-49c5b6d5-b253-455b-988e-b75c1d8c5c6b')\"\n",
              "            title=\"Convert this dataframe to an interactive table.\"\n",
              "            style=\"display:none;\">\n",
              "\n",
              "  <svg xmlns=\"http://www.w3.org/2000/svg\" height=\"24px\" viewBox=\"0 -960 960 960\">\n",
              "    <path d=\"M120-120v-720h720v720H120Zm60-500h600v-160H180v160Zm220 220h160v-160H400v160Zm0 220h160v-160H400v160ZM180-400h160v-160H180v160Zm440 0h160v-160H620v160ZM180-180h160v-160H180v160Zm440 0h160v-160H620v160Z\"/>\n",
              "  </svg>\n",
              "    </button>\n",
              "\n",
              "  <style>\n",
              "    .colab-df-container {\n",
              "      display:flex;\n",
              "      gap: 12px;\n",
              "    }\n",
              "\n",
              "    .colab-df-convert {\n",
              "      background-color: #E8F0FE;\n",
              "      border: none;\n",
              "      border-radius: 50%;\n",
              "      cursor: pointer;\n",
              "      display: none;\n",
              "      fill: #1967D2;\n",
              "      height: 32px;\n",
              "      padding: 0 0 0 0;\n",
              "      width: 32px;\n",
              "    }\n",
              "\n",
              "    .colab-df-convert:hover {\n",
              "      background-color: #E2EBFA;\n",
              "      box-shadow: 0px 1px 2px rgba(60, 64, 67, 0.3), 0px 1px 3px 1px rgba(60, 64, 67, 0.15);\n",
              "      fill: #174EA6;\n",
              "    }\n",
              "\n",
              "    .colab-df-buttons div {\n",
              "      margin-bottom: 4px;\n",
              "    }\n",
              "\n",
              "    [theme=dark] .colab-df-convert {\n",
              "      background-color: #3B4455;\n",
              "      fill: #D2E3FC;\n",
              "    }\n",
              "\n",
              "    [theme=dark] .colab-df-convert:hover {\n",
              "      background-color: #434B5C;\n",
              "      box-shadow: 0px 1px 3px 1px rgba(0, 0, 0, 0.15);\n",
              "      filter: drop-shadow(0px 1px 2px rgba(0, 0, 0, 0.3));\n",
              "      fill: #FFFFFF;\n",
              "    }\n",
              "  </style>\n",
              "\n",
              "    <script>\n",
              "      const buttonEl =\n",
              "        document.querySelector('#df-49c5b6d5-b253-455b-988e-b75c1d8c5c6b button.colab-df-convert');\n",
              "      buttonEl.style.display =\n",
              "        google.colab.kernel.accessAllowed ? 'block' : 'none';\n",
              "\n",
              "      async function convertToInteractive(key) {\n",
              "        const element = document.querySelector('#df-49c5b6d5-b253-455b-988e-b75c1d8c5c6b');\n",
              "        const dataTable =\n",
              "          await google.colab.kernel.invokeFunction('convertToInteractive',\n",
              "                                                    [key], {});\n",
              "        if (!dataTable) return;\n",
              "\n",
              "        const docLinkHtml = 'Like what you see? Visit the ' +\n",
              "          '<a target=\"_blank\" href=https://colab.research.google.com/notebooks/data_table.ipynb>data table notebook</a>'\n",
              "          + ' to learn more about interactive tables.';\n",
              "        element.innerHTML = '';\n",
              "        dataTable['output_type'] = 'display_data';\n",
              "        await google.colab.output.renderOutput(dataTable, element);\n",
              "        const docLink = document.createElement('div');\n",
              "        docLink.innerHTML = docLinkHtml;\n",
              "        element.appendChild(docLink);\n",
              "      }\n",
              "    </script>\n",
              "  </div>\n",
              "\n",
              "\n",
              "<div id=\"df-dd85d80d-98d2-474e-a777-f4e80e1eaf47\">\n",
              "  <button class=\"colab-df-quickchart\" onclick=\"quickchart('df-dd85d80d-98d2-474e-a777-f4e80e1eaf47')\"\n",
              "            title=\"Suggest charts\"\n",
              "            style=\"display:none;\">\n",
              "\n",
              "<svg xmlns=\"http://www.w3.org/2000/svg\" height=\"24px\"viewBox=\"0 0 24 24\"\n",
              "     width=\"24px\">\n",
              "    <g>\n",
              "        <path d=\"M19 3H5c-1.1 0-2 .9-2 2v14c0 1.1.9 2 2 2h14c1.1 0 2-.9 2-2V5c0-1.1-.9-2-2-2zM9 17H7v-7h2v7zm4 0h-2V7h2v10zm4 0h-2v-4h2v4z\"/>\n",
              "    </g>\n",
              "</svg>\n",
              "  </button>\n",
              "\n",
              "<style>\n",
              "  .colab-df-quickchart {\n",
              "      --bg-color: #E8F0FE;\n",
              "      --fill-color: #1967D2;\n",
              "      --hover-bg-color: #E2EBFA;\n",
              "      --hover-fill-color: #174EA6;\n",
              "      --disabled-fill-color: #AAA;\n",
              "      --disabled-bg-color: #DDD;\n",
              "  }\n",
              "\n",
              "  [theme=dark] .colab-df-quickchart {\n",
              "      --bg-color: #3B4455;\n",
              "      --fill-color: #D2E3FC;\n",
              "      --hover-bg-color: #434B5C;\n",
              "      --hover-fill-color: #FFFFFF;\n",
              "      --disabled-bg-color: #3B4455;\n",
              "      --disabled-fill-color: #666;\n",
              "  }\n",
              "\n",
              "  .colab-df-quickchart {\n",
              "    background-color: var(--bg-color);\n",
              "    border: none;\n",
              "    border-radius: 50%;\n",
              "    cursor: pointer;\n",
              "    display: none;\n",
              "    fill: var(--fill-color);\n",
              "    height: 32px;\n",
              "    padding: 0;\n",
              "    width: 32px;\n",
              "  }\n",
              "\n",
              "  .colab-df-quickchart:hover {\n",
              "    background-color: var(--hover-bg-color);\n",
              "    box-shadow: 0 1px 2px rgba(60, 64, 67, 0.3), 0 1px 3px 1px rgba(60, 64, 67, 0.15);\n",
              "    fill: var(--button-hover-fill-color);\n",
              "  }\n",
              "\n",
              "  .colab-df-quickchart-complete:disabled,\n",
              "  .colab-df-quickchart-complete:disabled:hover {\n",
              "    background-color: var(--disabled-bg-color);\n",
              "    fill: var(--disabled-fill-color);\n",
              "    box-shadow: none;\n",
              "  }\n",
              "\n",
              "  .colab-df-spinner {\n",
              "    border: 2px solid var(--fill-color);\n",
              "    border-color: transparent;\n",
              "    border-bottom-color: var(--fill-color);\n",
              "    animation:\n",
              "      spin 1s steps(1) infinite;\n",
              "  }\n",
              "\n",
              "  @keyframes spin {\n",
              "    0% {\n",
              "      border-color: transparent;\n",
              "      border-bottom-color: var(--fill-color);\n",
              "      border-left-color: var(--fill-color);\n",
              "    }\n",
              "    20% {\n",
              "      border-color: transparent;\n",
              "      border-left-color: var(--fill-color);\n",
              "      border-top-color: var(--fill-color);\n",
              "    }\n",
              "    30% {\n",
              "      border-color: transparent;\n",
              "      border-left-color: var(--fill-color);\n",
              "      border-top-color: var(--fill-color);\n",
              "      border-right-color: var(--fill-color);\n",
              "    }\n",
              "    40% {\n",
              "      border-color: transparent;\n",
              "      border-right-color: var(--fill-color);\n",
              "      border-top-color: var(--fill-color);\n",
              "    }\n",
              "    60% {\n",
              "      border-color: transparent;\n",
              "      border-right-color: var(--fill-color);\n",
              "    }\n",
              "    80% {\n",
              "      border-color: transparent;\n",
              "      border-right-color: var(--fill-color);\n",
              "      border-bottom-color: var(--fill-color);\n",
              "    }\n",
              "    90% {\n",
              "      border-color: transparent;\n",
              "      border-bottom-color: var(--fill-color);\n",
              "    }\n",
              "  }\n",
              "</style>\n",
              "\n",
              "  <script>\n",
              "    async function quickchart(key) {\n",
              "      const quickchartButtonEl =\n",
              "        document.querySelector('#' + key + ' button');\n",
              "      quickchartButtonEl.disabled = true;  // To prevent multiple clicks.\n",
              "      quickchartButtonEl.classList.add('colab-df-spinner');\n",
              "      try {\n",
              "        const charts = await google.colab.kernel.invokeFunction(\n",
              "            'suggestCharts', [key], {});\n",
              "      } catch (error) {\n",
              "        console.error('Error during call to suggestCharts:', error);\n",
              "      }\n",
              "      quickchartButtonEl.classList.remove('colab-df-spinner');\n",
              "      quickchartButtonEl.classList.add('colab-df-quickchart-complete');\n",
              "    }\n",
              "    (() => {\n",
              "      let quickchartButtonEl =\n",
              "        document.querySelector('#df-dd85d80d-98d2-474e-a777-f4e80e1eaf47 button');\n",
              "      quickchartButtonEl.style.display =\n",
              "        google.colab.kernel.accessAllowed ? 'block' : 'none';\n",
              "    })();\n",
              "  </script>\n",
              "</div>\n",
              "\n",
              "  <div id=\"id_dbe71870-bd3a-4ec4-9cc4-ca69ab1e5323\">\n",
              "    <style>\n",
              "      .colab-df-generate {\n",
              "        background-color: #E8F0FE;\n",
              "        border: none;\n",
              "        border-radius: 50%;\n",
              "        cursor: pointer;\n",
              "        display: none;\n",
              "        fill: #1967D2;\n",
              "        height: 32px;\n",
              "        padding: 0 0 0 0;\n",
              "        width: 32px;\n",
              "      }\n",
              "\n",
              "      .colab-df-generate:hover {\n",
              "        background-color: #E2EBFA;\n",
              "        box-shadow: 0px 1px 2px rgba(60, 64, 67, 0.3), 0px 1px 3px 1px rgba(60, 64, 67, 0.15);\n",
              "        fill: #174EA6;\n",
              "      }\n",
              "\n",
              "      [theme=dark] .colab-df-generate {\n",
              "        background-color: #3B4455;\n",
              "        fill: #D2E3FC;\n",
              "      }\n",
              "\n",
              "      [theme=dark] .colab-df-generate:hover {\n",
              "        background-color: #434B5C;\n",
              "        box-shadow: 0px 1px 3px 1px rgba(0, 0, 0, 0.15);\n",
              "        filter: drop-shadow(0px 1px 2px rgba(0, 0, 0, 0.3));\n",
              "        fill: #FFFFFF;\n",
              "      }\n",
              "    </style>\n",
              "    <button class=\"colab-df-generate\" onclick=\"generateWithVariable('predicted_prices')\"\n",
              "            title=\"Generate code using this dataframe.\"\n",
              "            style=\"display:none;\">\n",
              "\n",
              "  <svg xmlns=\"http://www.w3.org/2000/svg\" height=\"24px\"viewBox=\"0 0 24 24\"\n",
              "       width=\"24px\">\n",
              "    <path d=\"M7,19H8.4L18.45,9,17,7.55,7,17.6ZM5,21V16.75L18.45,3.32a2,2,0,0,1,2.83,0l1.4,1.43a1.91,1.91,0,0,1,.58,1.4,1.91,1.91,0,0,1-.58,1.4L9.25,21ZM18.45,9,17,7.55Zm-12,3A5.31,5.31,0,0,0,4.9,8.1,5.31,5.31,0,0,0,1,6.5,5.31,5.31,0,0,0,4.9,4.9,5.31,5.31,0,0,0,6.5,1,5.31,5.31,0,0,0,8.1,4.9,5.31,5.31,0,0,0,12,6.5,5.46,5.46,0,0,0,6.5,12Z\"/>\n",
              "  </svg>\n",
              "    </button>\n",
              "    <script>\n",
              "      (() => {\n",
              "      const buttonEl =\n",
              "        document.querySelector('#id_dbe71870-bd3a-4ec4-9cc4-ca69ab1e5323 button.colab-df-generate');\n",
              "      buttonEl.style.display =\n",
              "        google.colab.kernel.accessAllowed ? 'block' : 'none';\n",
              "\n",
              "      buttonEl.onclick = () => {\n",
              "        google.colab.notebook.generateWithVariable('predicted_prices');\n",
              "      }\n",
              "      })();\n",
              "    </script>\n",
              "  </div>\n",
              "\n",
              "    </div>\n",
              "  </div>\n"
            ],
            "application/vnd.google.colaboratory.intrinsic+json": {
              "type": "dataframe",
              "variable_name": "predicted_prices",
              "summary": "{\n  \"name\": \"predicted_prices\",\n  \"rows\": 4772,\n  \"fields\": [\n    {\n      \"column\": \"Date\",\n      \"properties\": {\n        \"dtype\": \"date\",\n        \"min\": \"2006-03-07 00:00:00\",\n        \"max\": \"2025-02-21 00:00:00\",\n        \"num_unique_values\": 4772,\n        \"samples\": [\n          \"2009-05-01 00:00:00\",\n          \"2006-12-18 00:00:00\",\n          \"2013-07-11 00:00:00\"\n        ],\n        \"semantic_type\": \"\",\n        \"description\": \"\"\n      }\n    },\n    {\n      \"column\": \"AAPL\",\n      \"properties\": {\n        \"dtype\": \"number\",\n        \"std\": 54.00982766776115,\n        \"min\": 2.9928789138793945,\n        \"max\": 213.607421875,\n        \"num_unique_values\": 4770,\n        \"samples\": [\n          8.167014122009277,\n          29.042978286743164,\n          24.921953201293945\n        ],\n        \"semantic_type\": \"\",\n        \"description\": \"\"\n      }\n    },\n    {\n      \"column\": \"AMZN\",\n      \"properties\": {\n        \"dtype\": \"number\",\n        \"std\": 55.86604618847495,\n        \"min\": -0.6498409509658813,\n        \"max\": 209.21542358398438,\n        \"num_unique_values\": 4770,\n        \"samples\": [\n          6.021067142486572,\n          14.093042373657227,\n          29.063997268676758\n        ],\n        \"semantic_type\": \"\",\n        \"description\": \"\"\n      }\n    },\n    {\n      \"column\": \"GOOG\",\n      \"properties\": {\n        \"dtype\": \"number\",\n        \"std\": 43.90084297051998,\n        \"min\": 8.227890014648438,\n        \"max\": 167.43382263183594,\n        \"num_unique_values\": 4770,\n        \"samples\": [\n          15.07642936706543,\n          24.819931030273438,\n          36.868167877197266\n        ],\n        \"semantic_type\": \"\",\n        \"description\": \"\"\n      }\n    }\n  ]\n}"
            }
          },
          "metadata": {},
          "execution_count": 53
        }
      ]
    },
    {
      "cell_type": "code",
      "metadata": {
        "colab": {
          "base_uri": "https://localhost:8080/",
          "height": 455
        },
        "id": "gZ2ZrLE22dDp",
        "outputId": "3072a7a3-9898-4ac6-8b45-65cc3bd40809"
      },
      "source": [
        "actual_prices"
      ],
      "execution_count": 54,
      "outputs": [
        {
          "output_type": "execute_result",
          "data": {
            "text/plain": [
              "Index             AAPL        AMZN        GOOG\n",
              "Date                                          \n",
              "2006-03-07    2.446071    1.872000    9.031647\n",
              "2006-03-08    2.467857    1.856000    9.085944\n",
              "2006-03-09    2.486071    1.844000    9.376106\n",
              "2006-03-10    2.418571    1.860500    9.419195\n",
              "2006-03-13    2.338571    1.843000    9.168136\n",
              "...                ...         ...         ...\n",
              "2025-02-12  232.470001  236.169998  193.300003\n",
              "2025-02-13  233.220001  238.830002  193.309998\n",
              "2025-02-14  227.630005  229.149994  187.139999\n",
              "2025-02-18  227.649994  233.139999  188.199997\n",
              "2025-02-19  232.619995  232.759995  187.070007\n",
              "\n",
              "[4770 rows x 3 columns]"
            ],
            "text/html": [
              "\n",
              "  <div id=\"df-7eff4c3c-6ab1-4a62-9785-da6e5803da3e\" class=\"colab-df-container\">\n",
              "    <div>\n",
              "<style scoped>\n",
              "    .dataframe tbody tr th:only-of-type {\n",
              "        vertical-align: middle;\n",
              "    }\n",
              "\n",
              "    .dataframe tbody tr th {\n",
              "        vertical-align: top;\n",
              "    }\n",
              "\n",
              "    .dataframe thead th {\n",
              "        text-align: right;\n",
              "    }\n",
              "</style>\n",
              "<table border=\"1\" class=\"dataframe\">\n",
              "  <thead>\n",
              "    <tr style=\"text-align: right;\">\n",
              "      <th>Index</th>\n",
              "      <th>AAPL</th>\n",
              "      <th>AMZN</th>\n",
              "      <th>GOOG</th>\n",
              "    </tr>\n",
              "    <tr>\n",
              "      <th>Date</th>\n",
              "      <th></th>\n",
              "      <th></th>\n",
              "      <th></th>\n",
              "    </tr>\n",
              "  </thead>\n",
              "  <tbody>\n",
              "    <tr>\n",
              "      <th>2006-03-07</th>\n",
              "      <td>2.446071</td>\n",
              "      <td>1.872000</td>\n",
              "      <td>9.031647</td>\n",
              "    </tr>\n",
              "    <tr>\n",
              "      <th>2006-03-08</th>\n",
              "      <td>2.467857</td>\n",
              "      <td>1.856000</td>\n",
              "      <td>9.085944</td>\n",
              "    </tr>\n",
              "    <tr>\n",
              "      <th>2006-03-09</th>\n",
              "      <td>2.486071</td>\n",
              "      <td>1.844000</td>\n",
              "      <td>9.376106</td>\n",
              "    </tr>\n",
              "    <tr>\n",
              "      <th>2006-03-10</th>\n",
              "      <td>2.418571</td>\n",
              "      <td>1.860500</td>\n",
              "      <td>9.419195</td>\n",
              "    </tr>\n",
              "    <tr>\n",
              "      <th>2006-03-13</th>\n",
              "      <td>2.338571</td>\n",
              "      <td>1.843000</td>\n",
              "      <td>9.168136</td>\n",
              "    </tr>\n",
              "    <tr>\n",
              "      <th>...</th>\n",
              "      <td>...</td>\n",
              "      <td>...</td>\n",
              "      <td>...</td>\n",
              "    </tr>\n",
              "    <tr>\n",
              "      <th>2025-02-12</th>\n",
              "      <td>232.470001</td>\n",
              "      <td>236.169998</td>\n",
              "      <td>193.300003</td>\n",
              "    </tr>\n",
              "    <tr>\n",
              "      <th>2025-02-13</th>\n",
              "      <td>233.220001</td>\n",
              "      <td>238.830002</td>\n",
              "      <td>193.309998</td>\n",
              "    </tr>\n",
              "    <tr>\n",
              "      <th>2025-02-14</th>\n",
              "      <td>227.630005</td>\n",
              "      <td>229.149994</td>\n",
              "      <td>187.139999</td>\n",
              "    </tr>\n",
              "    <tr>\n",
              "      <th>2025-02-18</th>\n",
              "      <td>227.649994</td>\n",
              "      <td>233.139999</td>\n",
              "      <td>188.199997</td>\n",
              "    </tr>\n",
              "    <tr>\n",
              "      <th>2025-02-19</th>\n",
              "      <td>232.619995</td>\n",
              "      <td>232.759995</td>\n",
              "      <td>187.070007</td>\n",
              "    </tr>\n",
              "  </tbody>\n",
              "</table>\n",
              "<p>4770 rows × 3 columns</p>\n",
              "</div>\n",
              "    <div class=\"colab-df-buttons\">\n",
              "\n",
              "  <div class=\"colab-df-container\">\n",
              "    <button class=\"colab-df-convert\" onclick=\"convertToInteractive('df-7eff4c3c-6ab1-4a62-9785-da6e5803da3e')\"\n",
              "            title=\"Convert this dataframe to an interactive table.\"\n",
              "            style=\"display:none;\">\n",
              "\n",
              "  <svg xmlns=\"http://www.w3.org/2000/svg\" height=\"24px\" viewBox=\"0 -960 960 960\">\n",
              "    <path d=\"M120-120v-720h720v720H120Zm60-500h600v-160H180v160Zm220 220h160v-160H400v160Zm0 220h160v-160H400v160ZM180-400h160v-160H180v160Zm440 0h160v-160H620v160ZM180-180h160v-160H180v160Zm440 0h160v-160H620v160Z\"/>\n",
              "  </svg>\n",
              "    </button>\n",
              "\n",
              "  <style>\n",
              "    .colab-df-container {\n",
              "      display:flex;\n",
              "      gap: 12px;\n",
              "    }\n",
              "\n",
              "    .colab-df-convert {\n",
              "      background-color: #E8F0FE;\n",
              "      border: none;\n",
              "      border-radius: 50%;\n",
              "      cursor: pointer;\n",
              "      display: none;\n",
              "      fill: #1967D2;\n",
              "      height: 32px;\n",
              "      padding: 0 0 0 0;\n",
              "      width: 32px;\n",
              "    }\n",
              "\n",
              "    .colab-df-convert:hover {\n",
              "      background-color: #E2EBFA;\n",
              "      box-shadow: 0px 1px 2px rgba(60, 64, 67, 0.3), 0px 1px 3px 1px rgba(60, 64, 67, 0.15);\n",
              "      fill: #174EA6;\n",
              "    }\n",
              "\n",
              "    .colab-df-buttons div {\n",
              "      margin-bottom: 4px;\n",
              "    }\n",
              "\n",
              "    [theme=dark] .colab-df-convert {\n",
              "      background-color: #3B4455;\n",
              "      fill: #D2E3FC;\n",
              "    }\n",
              "\n",
              "    [theme=dark] .colab-df-convert:hover {\n",
              "      background-color: #434B5C;\n",
              "      box-shadow: 0px 1px 3px 1px rgba(0, 0, 0, 0.15);\n",
              "      filter: drop-shadow(0px 1px 2px rgba(0, 0, 0, 0.3));\n",
              "      fill: #FFFFFF;\n",
              "    }\n",
              "  </style>\n",
              "\n",
              "    <script>\n",
              "      const buttonEl =\n",
              "        document.querySelector('#df-7eff4c3c-6ab1-4a62-9785-da6e5803da3e button.colab-df-convert');\n",
              "      buttonEl.style.display =\n",
              "        google.colab.kernel.accessAllowed ? 'block' : 'none';\n",
              "\n",
              "      async function convertToInteractive(key) {\n",
              "        const element = document.querySelector('#df-7eff4c3c-6ab1-4a62-9785-da6e5803da3e');\n",
              "        const dataTable =\n",
              "          await google.colab.kernel.invokeFunction('convertToInteractive',\n",
              "                                                    [key], {});\n",
              "        if (!dataTable) return;\n",
              "\n",
              "        const docLinkHtml = 'Like what you see? Visit the ' +\n",
              "          '<a target=\"_blank\" href=https://colab.research.google.com/notebooks/data_table.ipynb>data table notebook</a>'\n",
              "          + ' to learn more about interactive tables.';\n",
              "        element.innerHTML = '';\n",
              "        dataTable['output_type'] = 'display_data';\n",
              "        await google.colab.output.renderOutput(dataTable, element);\n",
              "        const docLink = document.createElement('div');\n",
              "        docLink.innerHTML = docLinkHtml;\n",
              "        element.appendChild(docLink);\n",
              "      }\n",
              "    </script>\n",
              "  </div>\n",
              "\n",
              "\n",
              "<div id=\"df-4d6cae4f-db23-436d-93a7-a341d2b4da09\">\n",
              "  <button class=\"colab-df-quickchart\" onclick=\"quickchart('df-4d6cae4f-db23-436d-93a7-a341d2b4da09')\"\n",
              "            title=\"Suggest charts\"\n",
              "            style=\"display:none;\">\n",
              "\n",
              "<svg xmlns=\"http://www.w3.org/2000/svg\" height=\"24px\"viewBox=\"0 0 24 24\"\n",
              "     width=\"24px\">\n",
              "    <g>\n",
              "        <path d=\"M19 3H5c-1.1 0-2 .9-2 2v14c0 1.1.9 2 2 2h14c1.1 0 2-.9 2-2V5c0-1.1-.9-2-2-2zM9 17H7v-7h2v7zm4 0h-2V7h2v10zm4 0h-2v-4h2v4z\"/>\n",
              "    </g>\n",
              "</svg>\n",
              "  </button>\n",
              "\n",
              "<style>\n",
              "  .colab-df-quickchart {\n",
              "      --bg-color: #E8F0FE;\n",
              "      --fill-color: #1967D2;\n",
              "      --hover-bg-color: #E2EBFA;\n",
              "      --hover-fill-color: #174EA6;\n",
              "      --disabled-fill-color: #AAA;\n",
              "      --disabled-bg-color: #DDD;\n",
              "  }\n",
              "\n",
              "  [theme=dark] .colab-df-quickchart {\n",
              "      --bg-color: #3B4455;\n",
              "      --fill-color: #D2E3FC;\n",
              "      --hover-bg-color: #434B5C;\n",
              "      --hover-fill-color: #FFFFFF;\n",
              "      --disabled-bg-color: #3B4455;\n",
              "      --disabled-fill-color: #666;\n",
              "  }\n",
              "\n",
              "  .colab-df-quickchart {\n",
              "    background-color: var(--bg-color);\n",
              "    border: none;\n",
              "    border-radius: 50%;\n",
              "    cursor: pointer;\n",
              "    display: none;\n",
              "    fill: var(--fill-color);\n",
              "    height: 32px;\n",
              "    padding: 0;\n",
              "    width: 32px;\n",
              "  }\n",
              "\n",
              "  .colab-df-quickchart:hover {\n",
              "    background-color: var(--hover-bg-color);\n",
              "    box-shadow: 0 1px 2px rgba(60, 64, 67, 0.3), 0 1px 3px 1px rgba(60, 64, 67, 0.15);\n",
              "    fill: var(--button-hover-fill-color);\n",
              "  }\n",
              "\n",
              "  .colab-df-quickchart-complete:disabled,\n",
              "  .colab-df-quickchart-complete:disabled:hover {\n",
              "    background-color: var(--disabled-bg-color);\n",
              "    fill: var(--disabled-fill-color);\n",
              "    box-shadow: none;\n",
              "  }\n",
              "\n",
              "  .colab-df-spinner {\n",
              "    border: 2px solid var(--fill-color);\n",
              "    border-color: transparent;\n",
              "    border-bottom-color: var(--fill-color);\n",
              "    animation:\n",
              "      spin 1s steps(1) infinite;\n",
              "  }\n",
              "\n",
              "  @keyframes spin {\n",
              "    0% {\n",
              "      border-color: transparent;\n",
              "      border-bottom-color: var(--fill-color);\n",
              "      border-left-color: var(--fill-color);\n",
              "    }\n",
              "    20% {\n",
              "      border-color: transparent;\n",
              "      border-left-color: var(--fill-color);\n",
              "      border-top-color: var(--fill-color);\n",
              "    }\n",
              "    30% {\n",
              "      border-color: transparent;\n",
              "      border-left-color: var(--fill-color);\n",
              "      border-top-color: var(--fill-color);\n",
              "      border-right-color: var(--fill-color);\n",
              "    }\n",
              "    40% {\n",
              "      border-color: transparent;\n",
              "      border-right-color: var(--fill-color);\n",
              "      border-top-color: var(--fill-color);\n",
              "    }\n",
              "    60% {\n",
              "      border-color: transparent;\n",
              "      border-right-color: var(--fill-color);\n",
              "    }\n",
              "    80% {\n",
              "      border-color: transparent;\n",
              "      border-right-color: var(--fill-color);\n",
              "      border-bottom-color: var(--fill-color);\n",
              "    }\n",
              "    90% {\n",
              "      border-color: transparent;\n",
              "      border-bottom-color: var(--fill-color);\n",
              "    }\n",
              "  }\n",
              "</style>\n",
              "\n",
              "  <script>\n",
              "    async function quickchart(key) {\n",
              "      const quickchartButtonEl =\n",
              "        document.querySelector('#' + key + ' button');\n",
              "      quickchartButtonEl.disabled = true;  // To prevent multiple clicks.\n",
              "      quickchartButtonEl.classList.add('colab-df-spinner');\n",
              "      try {\n",
              "        const charts = await google.colab.kernel.invokeFunction(\n",
              "            'suggestCharts', [key], {});\n",
              "      } catch (error) {\n",
              "        console.error('Error during call to suggestCharts:', error);\n",
              "      }\n",
              "      quickchartButtonEl.classList.remove('colab-df-spinner');\n",
              "      quickchartButtonEl.classList.add('colab-df-quickchart-complete');\n",
              "    }\n",
              "    (() => {\n",
              "      let quickchartButtonEl =\n",
              "        document.querySelector('#df-4d6cae4f-db23-436d-93a7-a341d2b4da09 button');\n",
              "      quickchartButtonEl.style.display =\n",
              "        google.colab.kernel.accessAllowed ? 'block' : 'none';\n",
              "    })();\n",
              "  </script>\n",
              "</div>\n",
              "\n",
              "  <div id=\"id_dba07c66-7194-4366-8f56-84b6fbd748d5\">\n",
              "    <style>\n",
              "      .colab-df-generate {\n",
              "        background-color: #E8F0FE;\n",
              "        border: none;\n",
              "        border-radius: 50%;\n",
              "        cursor: pointer;\n",
              "        display: none;\n",
              "        fill: #1967D2;\n",
              "        height: 32px;\n",
              "        padding: 0 0 0 0;\n",
              "        width: 32px;\n",
              "      }\n",
              "\n",
              "      .colab-df-generate:hover {\n",
              "        background-color: #E2EBFA;\n",
              "        box-shadow: 0px 1px 2px rgba(60, 64, 67, 0.3), 0px 1px 3px 1px rgba(60, 64, 67, 0.15);\n",
              "        fill: #174EA6;\n",
              "      }\n",
              "\n",
              "      [theme=dark] .colab-df-generate {\n",
              "        background-color: #3B4455;\n",
              "        fill: #D2E3FC;\n",
              "      }\n",
              "\n",
              "      [theme=dark] .colab-df-generate:hover {\n",
              "        background-color: #434B5C;\n",
              "        box-shadow: 0px 1px 3px 1px rgba(0, 0, 0, 0.15);\n",
              "        filter: drop-shadow(0px 1px 2px rgba(0, 0, 0, 0.3));\n",
              "        fill: #FFFFFF;\n",
              "      }\n",
              "    </style>\n",
              "    <button class=\"colab-df-generate\" onclick=\"generateWithVariable('actual_prices')\"\n",
              "            title=\"Generate code using this dataframe.\"\n",
              "            style=\"display:none;\">\n",
              "\n",
              "  <svg xmlns=\"http://www.w3.org/2000/svg\" height=\"24px\"viewBox=\"0 0 24 24\"\n",
              "       width=\"24px\">\n",
              "    <path d=\"M7,19H8.4L18.45,9,17,7.55,7,17.6ZM5,21V16.75L18.45,3.32a2,2,0,0,1,2.83,0l1.4,1.43a1.91,1.91,0,0,1,.58,1.4,1.91,1.91,0,0,1-.58,1.4L9.25,21ZM18.45,9,17,7.55Zm-12,3A5.31,5.31,0,0,0,4.9,8.1,5.31,5.31,0,0,0,1,6.5,5.31,5.31,0,0,0,4.9,4.9,5.31,5.31,0,0,0,6.5,1,5.31,5.31,0,0,0,8.1,4.9,5.31,5.31,0,0,0,12,6.5,5.46,5.46,0,0,0,6.5,12Z\"/>\n",
              "  </svg>\n",
              "    </button>\n",
              "    <script>\n",
              "      (() => {\n",
              "      const buttonEl =\n",
              "        document.querySelector('#id_dba07c66-7194-4366-8f56-84b6fbd748d5 button.colab-df-generate');\n",
              "      buttonEl.style.display =\n",
              "        google.colab.kernel.accessAllowed ? 'block' : 'none';\n",
              "\n",
              "      buttonEl.onclick = () => {\n",
              "        google.colab.notebook.generateWithVariable('actual_prices');\n",
              "      }\n",
              "      })();\n",
              "    </script>\n",
              "  </div>\n",
              "\n",
              "    </div>\n",
              "  </div>\n"
            ],
            "application/vnd.google.colaboratory.intrinsic+json": {
              "type": "dataframe",
              "variable_name": "actual_prices",
              "summary": "{\n  \"name\": \"actual_prices\",\n  \"rows\": 4770,\n  \"fields\": [\n    {\n      \"column\": \"Date\",\n      \"properties\": {\n        \"dtype\": \"date\",\n        \"min\": \"2006-03-07 00:00:00\",\n        \"max\": \"2025-02-19 00:00:00\",\n        \"num_unique_values\": 4770,\n        \"samples\": [\n          \"2010-01-04 00:00:00\",\n          \"2015-01-05 00:00:00\",\n          \"2016-06-30 00:00:00\"\n        ],\n        \"semantic_type\": \"\",\n        \"description\": \"\"\n      }\n    },\n    {\n      \"column\": \"AAPL\",\n      \"properties\": {\n        \"dtype\": \"number\",\n        \"std\": 65.12348870049695,\n        \"min\": 1.80964303016663,\n        \"max\": 259.019989013672,\n        \"num_unique_values\": 4562,\n        \"samples\": [\n          135.389999389648,\n          9.14249992370605,\n          2.24000000953674\n        ],\n        \"semantic_type\": \"\",\n        \"description\": \"\"\n      }\n    },\n    {\n      \"column\": \"AMZN\",\n      \"properties\": {\n        \"dtype\": \"number\",\n        \"std\": 62.247287781545616,\n        \"min\": 1.30350005626678,\n        \"max\": 242.059997558594,\n        \"num_unique_values\": 4613,\n        \"samples\": [\n          7.769499778747561,\n          50.0315017700195,\n          8.71749973297119\n        ],\n        \"semantic_type\": \"\",\n        \"description\": \"\"\n      }\n    },\n    {\n      \"column\": \"GOOG\",\n      \"properties\": {\n        \"dtype\": \"number\",\n        \"std\": 47.94417823937124,\n        \"min\": 6.411965847015381,\n        \"max\": 207.71000671386702,\n        \"num_unique_values\": 4681,\n        \"samples\": [\n          31.2884998321533,\n          10.1325206756592,\n          88.1500015258789\n        ],\n        \"semantic_type\": \"\",\n        \"description\": \"\"\n      }\n    }\n  ]\n}"
            }
          },
          "metadata": {},
          "execution_count": 54
        }
      ]
    },
    {
      "cell_type": "markdown",
      "metadata": {
        "id": "Mjs0YdiDmaAN"
      },
      "source": [
        "# Changes we could make\n",
        "\n",
        "- Add more neurons per layer or reduce layers\n",
        "- Others?"
      ]
    },
    {
      "cell_type": "markdown",
      "metadata": {
        "id": "Wd_PoWG-m9qy"
      },
      "source": [
        "# Next Steps\n",
        "- Plug our data into scipy opt/ GD / Montecarlo to predict weights\n",
        "- *Which performs better; historical mean returns or predicted stock prices?*"
      ]
    },
    {
      "cell_type": "markdown",
      "metadata": {
        "id": "F3X4e_788CF1"
      },
      "source": [
        "# Converting Prices to Returns"
      ]
    },
    {
      "cell_type": "markdown",
      "metadata": {
        "id": "UEYQ4hKLWMhj"
      },
      "source": [
        "### Actual Returns\n",
        "These are the actual stock returns that the market experienced"
      ]
    },
    {
      "cell_type": "code",
      "metadata": {
        "colab": {
          "base_uri": "https://localhost:8080/",
          "height": 455
        },
        "id": "q59dbLTO8JCl",
        "outputId": "c25f8436-87f9-4233-e795-655c1c6ac9c0"
      },
      "source": [
        "#Conversion of Actual Prices to Actual Returns\n",
        "actual_returns = actual_prices.apply(lambda x: np.log(x) - np.log(x.shift(1))).iloc[1:]  #Log returns minus first date\n",
        "actual_returns"
      ],
      "execution_count": 55,
      "outputs": [
        {
          "output_type": "execute_result",
          "data": {
            "text/plain": [
              "Index           AAPL      AMZN      GOOG\n",
              "Date                                    \n",
              "2006-03-08  0.008867 -0.008584  0.005994\n",
              "2006-03-09  0.007353 -0.006486  0.031436\n",
              "2006-03-10 -0.027527  0.008908  0.004585\n",
              "2006-03-13 -0.033637 -0.009451 -0.027016\n",
              "2006-03-14  0.012596  0.001897 -0.009965\n",
              "...              ...       ...       ...\n",
              "2025-02-12 -0.001419 -0.024634 -0.071900\n",
              "2025-02-13  0.003221  0.011200  0.000052\n",
              "2025-02-14 -0.024261 -0.041375 -0.032438\n",
              "2025-02-18  0.000088  0.017262  0.005648\n",
              "2025-02-19  0.021597 -0.001631 -0.006022\n",
              "\n",
              "[4769 rows x 3 columns]"
            ],
            "text/html": [
              "\n",
              "  <div id=\"df-dfe3b70c-8f17-4ef9-bfb8-78799f210d81\" class=\"colab-df-container\">\n",
              "    <div>\n",
              "<style scoped>\n",
              "    .dataframe tbody tr th:only-of-type {\n",
              "        vertical-align: middle;\n",
              "    }\n",
              "\n",
              "    .dataframe tbody tr th {\n",
              "        vertical-align: top;\n",
              "    }\n",
              "\n",
              "    .dataframe thead th {\n",
              "        text-align: right;\n",
              "    }\n",
              "</style>\n",
              "<table border=\"1\" class=\"dataframe\">\n",
              "  <thead>\n",
              "    <tr style=\"text-align: right;\">\n",
              "      <th>Index</th>\n",
              "      <th>AAPL</th>\n",
              "      <th>AMZN</th>\n",
              "      <th>GOOG</th>\n",
              "    </tr>\n",
              "    <tr>\n",
              "      <th>Date</th>\n",
              "      <th></th>\n",
              "      <th></th>\n",
              "      <th></th>\n",
              "    </tr>\n",
              "  </thead>\n",
              "  <tbody>\n",
              "    <tr>\n",
              "      <th>2006-03-08</th>\n",
              "      <td>0.008867</td>\n",
              "      <td>-0.008584</td>\n",
              "      <td>0.005994</td>\n",
              "    </tr>\n",
              "    <tr>\n",
              "      <th>2006-03-09</th>\n",
              "      <td>0.007353</td>\n",
              "      <td>-0.006486</td>\n",
              "      <td>0.031436</td>\n",
              "    </tr>\n",
              "    <tr>\n",
              "      <th>2006-03-10</th>\n",
              "      <td>-0.027527</td>\n",
              "      <td>0.008908</td>\n",
              "      <td>0.004585</td>\n",
              "    </tr>\n",
              "    <tr>\n",
              "      <th>2006-03-13</th>\n",
              "      <td>-0.033637</td>\n",
              "      <td>-0.009451</td>\n",
              "      <td>-0.027016</td>\n",
              "    </tr>\n",
              "    <tr>\n",
              "      <th>2006-03-14</th>\n",
              "      <td>0.012596</td>\n",
              "      <td>0.001897</td>\n",
              "      <td>-0.009965</td>\n",
              "    </tr>\n",
              "    <tr>\n",
              "      <th>...</th>\n",
              "      <td>...</td>\n",
              "      <td>...</td>\n",
              "      <td>...</td>\n",
              "    </tr>\n",
              "    <tr>\n",
              "      <th>2025-02-12</th>\n",
              "      <td>-0.001419</td>\n",
              "      <td>-0.024634</td>\n",
              "      <td>-0.071900</td>\n",
              "    </tr>\n",
              "    <tr>\n",
              "      <th>2025-02-13</th>\n",
              "      <td>0.003221</td>\n",
              "      <td>0.011200</td>\n",
              "      <td>0.000052</td>\n",
              "    </tr>\n",
              "    <tr>\n",
              "      <th>2025-02-14</th>\n",
              "      <td>-0.024261</td>\n",
              "      <td>-0.041375</td>\n",
              "      <td>-0.032438</td>\n",
              "    </tr>\n",
              "    <tr>\n",
              "      <th>2025-02-18</th>\n",
              "      <td>0.000088</td>\n",
              "      <td>0.017262</td>\n",
              "      <td>0.005648</td>\n",
              "    </tr>\n",
              "    <tr>\n",
              "      <th>2025-02-19</th>\n",
              "      <td>0.021597</td>\n",
              "      <td>-0.001631</td>\n",
              "      <td>-0.006022</td>\n",
              "    </tr>\n",
              "  </tbody>\n",
              "</table>\n",
              "<p>4769 rows × 3 columns</p>\n",
              "</div>\n",
              "    <div class=\"colab-df-buttons\">\n",
              "\n",
              "  <div class=\"colab-df-container\">\n",
              "    <button class=\"colab-df-convert\" onclick=\"convertToInteractive('df-dfe3b70c-8f17-4ef9-bfb8-78799f210d81')\"\n",
              "            title=\"Convert this dataframe to an interactive table.\"\n",
              "            style=\"display:none;\">\n",
              "\n",
              "  <svg xmlns=\"http://www.w3.org/2000/svg\" height=\"24px\" viewBox=\"0 -960 960 960\">\n",
              "    <path d=\"M120-120v-720h720v720H120Zm60-500h600v-160H180v160Zm220 220h160v-160H400v160Zm0 220h160v-160H400v160ZM180-400h160v-160H180v160Zm440 0h160v-160H620v160ZM180-180h160v-160H180v160Zm440 0h160v-160H620v160Z\"/>\n",
              "  </svg>\n",
              "    </button>\n",
              "\n",
              "  <style>\n",
              "    .colab-df-container {\n",
              "      display:flex;\n",
              "      gap: 12px;\n",
              "    }\n",
              "\n",
              "    .colab-df-convert {\n",
              "      background-color: #E8F0FE;\n",
              "      border: none;\n",
              "      border-radius: 50%;\n",
              "      cursor: pointer;\n",
              "      display: none;\n",
              "      fill: #1967D2;\n",
              "      height: 32px;\n",
              "      padding: 0 0 0 0;\n",
              "      width: 32px;\n",
              "    }\n",
              "\n",
              "    .colab-df-convert:hover {\n",
              "      background-color: #E2EBFA;\n",
              "      box-shadow: 0px 1px 2px rgba(60, 64, 67, 0.3), 0px 1px 3px 1px rgba(60, 64, 67, 0.15);\n",
              "      fill: #174EA6;\n",
              "    }\n",
              "\n",
              "    .colab-df-buttons div {\n",
              "      margin-bottom: 4px;\n",
              "    }\n",
              "\n",
              "    [theme=dark] .colab-df-convert {\n",
              "      background-color: #3B4455;\n",
              "      fill: #D2E3FC;\n",
              "    }\n",
              "\n",
              "    [theme=dark] .colab-df-convert:hover {\n",
              "      background-color: #434B5C;\n",
              "      box-shadow: 0px 1px 3px 1px rgba(0, 0, 0, 0.15);\n",
              "      filter: drop-shadow(0px 1px 2px rgba(0, 0, 0, 0.3));\n",
              "      fill: #FFFFFF;\n",
              "    }\n",
              "  </style>\n",
              "\n",
              "    <script>\n",
              "      const buttonEl =\n",
              "        document.querySelector('#df-dfe3b70c-8f17-4ef9-bfb8-78799f210d81 button.colab-df-convert');\n",
              "      buttonEl.style.display =\n",
              "        google.colab.kernel.accessAllowed ? 'block' : 'none';\n",
              "\n",
              "      async function convertToInteractive(key) {\n",
              "        const element = document.querySelector('#df-dfe3b70c-8f17-4ef9-bfb8-78799f210d81');\n",
              "        const dataTable =\n",
              "          await google.colab.kernel.invokeFunction('convertToInteractive',\n",
              "                                                    [key], {});\n",
              "        if (!dataTable) return;\n",
              "\n",
              "        const docLinkHtml = 'Like what you see? Visit the ' +\n",
              "          '<a target=\"_blank\" href=https://colab.research.google.com/notebooks/data_table.ipynb>data table notebook</a>'\n",
              "          + ' to learn more about interactive tables.';\n",
              "        element.innerHTML = '';\n",
              "        dataTable['output_type'] = 'display_data';\n",
              "        await google.colab.output.renderOutput(dataTable, element);\n",
              "        const docLink = document.createElement('div');\n",
              "        docLink.innerHTML = docLinkHtml;\n",
              "        element.appendChild(docLink);\n",
              "      }\n",
              "    </script>\n",
              "  </div>\n",
              "\n",
              "\n",
              "<div id=\"df-b011f136-fbd5-44c8-9a39-751afceb83df\">\n",
              "  <button class=\"colab-df-quickchart\" onclick=\"quickchart('df-b011f136-fbd5-44c8-9a39-751afceb83df')\"\n",
              "            title=\"Suggest charts\"\n",
              "            style=\"display:none;\">\n",
              "\n",
              "<svg xmlns=\"http://www.w3.org/2000/svg\" height=\"24px\"viewBox=\"0 0 24 24\"\n",
              "     width=\"24px\">\n",
              "    <g>\n",
              "        <path d=\"M19 3H5c-1.1 0-2 .9-2 2v14c0 1.1.9 2 2 2h14c1.1 0 2-.9 2-2V5c0-1.1-.9-2-2-2zM9 17H7v-7h2v7zm4 0h-2V7h2v10zm4 0h-2v-4h2v4z\"/>\n",
              "    </g>\n",
              "</svg>\n",
              "  </button>\n",
              "\n",
              "<style>\n",
              "  .colab-df-quickchart {\n",
              "      --bg-color: #E8F0FE;\n",
              "      --fill-color: #1967D2;\n",
              "      --hover-bg-color: #E2EBFA;\n",
              "      --hover-fill-color: #174EA6;\n",
              "      --disabled-fill-color: #AAA;\n",
              "      --disabled-bg-color: #DDD;\n",
              "  }\n",
              "\n",
              "  [theme=dark] .colab-df-quickchart {\n",
              "      --bg-color: #3B4455;\n",
              "      --fill-color: #D2E3FC;\n",
              "      --hover-bg-color: #434B5C;\n",
              "      --hover-fill-color: #FFFFFF;\n",
              "      --disabled-bg-color: #3B4455;\n",
              "      --disabled-fill-color: #666;\n",
              "  }\n",
              "\n",
              "  .colab-df-quickchart {\n",
              "    background-color: var(--bg-color);\n",
              "    border: none;\n",
              "    border-radius: 50%;\n",
              "    cursor: pointer;\n",
              "    display: none;\n",
              "    fill: var(--fill-color);\n",
              "    height: 32px;\n",
              "    padding: 0;\n",
              "    width: 32px;\n",
              "  }\n",
              "\n",
              "  .colab-df-quickchart:hover {\n",
              "    background-color: var(--hover-bg-color);\n",
              "    box-shadow: 0 1px 2px rgba(60, 64, 67, 0.3), 0 1px 3px 1px rgba(60, 64, 67, 0.15);\n",
              "    fill: var(--button-hover-fill-color);\n",
              "  }\n",
              "\n",
              "  .colab-df-quickchart-complete:disabled,\n",
              "  .colab-df-quickchart-complete:disabled:hover {\n",
              "    background-color: var(--disabled-bg-color);\n",
              "    fill: var(--disabled-fill-color);\n",
              "    box-shadow: none;\n",
              "  }\n",
              "\n",
              "  .colab-df-spinner {\n",
              "    border: 2px solid var(--fill-color);\n",
              "    border-color: transparent;\n",
              "    border-bottom-color: var(--fill-color);\n",
              "    animation:\n",
              "      spin 1s steps(1) infinite;\n",
              "  }\n",
              "\n",
              "  @keyframes spin {\n",
              "    0% {\n",
              "      border-color: transparent;\n",
              "      border-bottom-color: var(--fill-color);\n",
              "      border-left-color: var(--fill-color);\n",
              "    }\n",
              "    20% {\n",
              "      border-color: transparent;\n",
              "      border-left-color: var(--fill-color);\n",
              "      border-top-color: var(--fill-color);\n",
              "    }\n",
              "    30% {\n",
              "      border-color: transparent;\n",
              "      border-left-color: var(--fill-color);\n",
              "      border-top-color: var(--fill-color);\n",
              "      border-right-color: var(--fill-color);\n",
              "    }\n",
              "    40% {\n",
              "      border-color: transparent;\n",
              "      border-right-color: var(--fill-color);\n",
              "      border-top-color: var(--fill-color);\n",
              "    }\n",
              "    60% {\n",
              "      border-color: transparent;\n",
              "      border-right-color: var(--fill-color);\n",
              "    }\n",
              "    80% {\n",
              "      border-color: transparent;\n",
              "      border-right-color: var(--fill-color);\n",
              "      border-bottom-color: var(--fill-color);\n",
              "    }\n",
              "    90% {\n",
              "      border-color: transparent;\n",
              "      border-bottom-color: var(--fill-color);\n",
              "    }\n",
              "  }\n",
              "</style>\n",
              "\n",
              "  <script>\n",
              "    async function quickchart(key) {\n",
              "      const quickchartButtonEl =\n",
              "        document.querySelector('#' + key + ' button');\n",
              "      quickchartButtonEl.disabled = true;  // To prevent multiple clicks.\n",
              "      quickchartButtonEl.classList.add('colab-df-spinner');\n",
              "      try {\n",
              "        const charts = await google.colab.kernel.invokeFunction(\n",
              "            'suggestCharts', [key], {});\n",
              "      } catch (error) {\n",
              "        console.error('Error during call to suggestCharts:', error);\n",
              "      }\n",
              "      quickchartButtonEl.classList.remove('colab-df-spinner');\n",
              "      quickchartButtonEl.classList.add('colab-df-quickchart-complete');\n",
              "    }\n",
              "    (() => {\n",
              "      let quickchartButtonEl =\n",
              "        document.querySelector('#df-b011f136-fbd5-44c8-9a39-751afceb83df button');\n",
              "      quickchartButtonEl.style.display =\n",
              "        google.colab.kernel.accessAllowed ? 'block' : 'none';\n",
              "    })();\n",
              "  </script>\n",
              "</div>\n",
              "\n",
              "  <div id=\"id_252754b5-41f8-40ef-978c-4f4c3cf6d7a4\">\n",
              "    <style>\n",
              "      .colab-df-generate {\n",
              "        background-color: #E8F0FE;\n",
              "        border: none;\n",
              "        border-radius: 50%;\n",
              "        cursor: pointer;\n",
              "        display: none;\n",
              "        fill: #1967D2;\n",
              "        height: 32px;\n",
              "        padding: 0 0 0 0;\n",
              "        width: 32px;\n",
              "      }\n",
              "\n",
              "      .colab-df-generate:hover {\n",
              "        background-color: #E2EBFA;\n",
              "        box-shadow: 0px 1px 2px rgba(60, 64, 67, 0.3), 0px 1px 3px 1px rgba(60, 64, 67, 0.15);\n",
              "        fill: #174EA6;\n",
              "      }\n",
              "\n",
              "      [theme=dark] .colab-df-generate {\n",
              "        background-color: #3B4455;\n",
              "        fill: #D2E3FC;\n",
              "      }\n",
              "\n",
              "      [theme=dark] .colab-df-generate:hover {\n",
              "        background-color: #434B5C;\n",
              "        box-shadow: 0px 1px 3px 1px rgba(0, 0, 0, 0.15);\n",
              "        filter: drop-shadow(0px 1px 2px rgba(0, 0, 0, 0.3));\n",
              "        fill: #FFFFFF;\n",
              "      }\n",
              "    </style>\n",
              "    <button class=\"colab-df-generate\" onclick=\"generateWithVariable('actual_returns')\"\n",
              "            title=\"Generate code using this dataframe.\"\n",
              "            style=\"display:none;\">\n",
              "\n",
              "  <svg xmlns=\"http://www.w3.org/2000/svg\" height=\"24px\"viewBox=\"0 0 24 24\"\n",
              "       width=\"24px\">\n",
              "    <path d=\"M7,19H8.4L18.45,9,17,7.55,7,17.6ZM5,21V16.75L18.45,3.32a2,2,0,0,1,2.83,0l1.4,1.43a1.91,1.91,0,0,1,.58,1.4,1.91,1.91,0,0,1-.58,1.4L9.25,21ZM18.45,9,17,7.55Zm-12,3A5.31,5.31,0,0,0,4.9,8.1,5.31,5.31,0,0,0,1,6.5,5.31,5.31,0,0,0,4.9,4.9,5.31,5.31,0,0,0,6.5,1,5.31,5.31,0,0,0,8.1,4.9,5.31,5.31,0,0,0,12,6.5,5.46,5.46,0,0,0,6.5,12Z\"/>\n",
              "  </svg>\n",
              "    </button>\n",
              "    <script>\n",
              "      (() => {\n",
              "      const buttonEl =\n",
              "        document.querySelector('#id_252754b5-41f8-40ef-978c-4f4c3cf6d7a4 button.colab-df-generate');\n",
              "      buttonEl.style.display =\n",
              "        google.colab.kernel.accessAllowed ? 'block' : 'none';\n",
              "\n",
              "      buttonEl.onclick = () => {\n",
              "        google.colab.notebook.generateWithVariable('actual_returns');\n",
              "      }\n",
              "      })();\n",
              "    </script>\n",
              "  </div>\n",
              "\n",
              "    </div>\n",
              "  </div>\n"
            ],
            "application/vnd.google.colaboratory.intrinsic+json": {
              "type": "dataframe",
              "variable_name": "actual_returns",
              "summary": "{\n  \"name\": \"actual_returns\",\n  \"rows\": 4769,\n  \"fields\": [\n    {\n      \"column\": \"Date\",\n      \"properties\": {\n        \"dtype\": \"date\",\n        \"min\": \"2006-03-08 00:00:00\",\n        \"max\": \"2025-02-19 00:00:00\",\n        \"num_unique_values\": 4769,\n        \"samples\": [\n          \"2010-01-05 00:00:00\",\n          \"2015-01-06 00:00:00\",\n          \"2016-07-01 00:00:00\"\n        ],\n        \"semantic_type\": \"\",\n        \"description\": \"\"\n      }\n    },\n    {\n      \"column\": \"AAPL\",\n      \"properties\": {\n        \"dtype\": \"number\",\n        \"std\": 0.019914735079135236,\n        \"min\": -0.1974699551820882,\n        \"max\": 0.1301940993271402,\n        \"num_unique_values\": 4760,\n        \"samples\": [\n          0.023063422826676394,\n          -0.02329092844769609,\n          -0.005503728702135113\n        ],\n        \"semantic_type\": \"\",\n        \"description\": \"\"\n      }\n    },\n    {\n      \"column\": \"AMZN\",\n      \"properties\": {\n        \"dtype\": \"number\",\n        \"std\": 0.023730379108131132,\n        \"min\": -0.2461815526970293,\n        \"max\": 0.23862098411981958,\n        \"num_unique_values\": 4759,\n        \"samples\": [\n          -0.008335766490115137,\n          -0.008132521348827693,\n          0.012356345908305144\n        ],\n        \"semantic_type\": \"\",\n        \"description\": \"\"\n      }\n    },\n    {\n      \"column\": \"GOOG\",\n      \"properties\": {\n        \"dtype\": \"number\",\n        \"std\": 0.018581799692447665,\n        \"min\": -0.12340150746348666,\n        \"max\": 0.18225105709086264,\n        \"num_unique_values\": 4769,\n        \"samples\": [\n          0.007073006780210278,\n          -0.006952583613848429,\n          -0.038709540553989896\n        ],\n        \"semantic_type\": \"\",\n        \"description\": \"\"\n      }\n    }\n  ]\n}"
            }
          },
          "metadata": {},
          "execution_count": 55
        }
      ]
    },
    {
      "cell_type": "markdown",
      "metadata": {
        "id": "lp-CuA-uWW4T"
      },
      "source": [
        "### Predicted Returns\n",
        "These are the stock returns that we predicted based on 252 days of prior trading days"
      ]
    },
    {
      "cell_type": "code",
      "metadata": {
        "colab": {
          "base_uri": "https://localhost:8080/",
          "height": 489
        },
        "id": "SRKQkXp_8vgm",
        "outputId": "3536fafa-9971-41f8-ae66-fc873a604c16"
      },
      "source": [
        "from sklearn.impute import SimpleImputer\n",
        "\n",
        "#Conversion of Predicted Prices to Returns\n",
        "predicted_returns = predicted_prices.apply(lambda x: np.log(x) - np.log(x.shift(1))).iloc[1:]  #Log returns minus first date\n",
        "\n",
        "#Impute null rows with mean between rows\n",
        "impute_mean = SimpleImputer(missing_values=np.nan, strategy='mean')\n",
        "predicted_returns = pd.DataFrame(data = impute_mean.fit_transform(predicted_returns),columns = stocks,index = dates[lookback+6:])\n",
        "\n",
        "# predicted_returns = predicted_returns.dropna() #Dropping first row - cannot compute of T(0) without prior date stock price\n",
        "predicted_returns"
      ],
      "execution_count": 56,
      "outputs": [
        {
          "output_type": "stream",
          "name": "stderr",
          "text": [
            "/usr/local/lib/python3.11/dist-packages/pandas/core/arraylike.py:399: RuntimeWarning: invalid value encountered in log\n",
            "  result = getattr(ufunc, method)(*inputs, **kwargs)\n"
          ]
        },
        {
          "output_type": "execute_result",
          "data": {
            "text/plain": [
              "Index           AAPL      AMZN      GOOG\n",
              "Date                                    \n",
              "2006-03-08  0.187863 -0.036299 -0.056898\n",
              "2006-03-09 -0.192930 -0.071556 -0.032195\n",
              "2006-03-10 -0.037864 -0.363259 -0.069929\n",
              "2006-03-13 -0.140134  0.404011  0.006016\n",
              "2006-03-14  0.083749  0.035760  0.117836\n",
              "...              ...       ...       ...\n",
              "2025-02-14  0.013711 -0.032565  0.019450\n",
              "2025-02-18 -0.012449  0.027006 -0.027867\n",
              "2025-02-19  0.011604  0.012923  0.018867\n",
              "2025-02-20  0.000777 -0.000826  0.000551\n",
              "2025-02-21  0.000777 -0.000826  0.000551\n",
              "\n",
              "[4771 rows x 3 columns]"
            ],
            "text/html": [
              "\n",
              "  <div id=\"df-7bbec0d5-dafb-4cd8-ad1f-1d8df51bb6ef\" class=\"colab-df-container\">\n",
              "    <div>\n",
              "<style scoped>\n",
              "    .dataframe tbody tr th:only-of-type {\n",
              "        vertical-align: middle;\n",
              "    }\n",
              "\n",
              "    .dataframe tbody tr th {\n",
              "        vertical-align: top;\n",
              "    }\n",
              "\n",
              "    .dataframe thead th {\n",
              "        text-align: right;\n",
              "    }\n",
              "</style>\n",
              "<table border=\"1\" class=\"dataframe\">\n",
              "  <thead>\n",
              "    <tr style=\"text-align: right;\">\n",
              "      <th>Index</th>\n",
              "      <th>AAPL</th>\n",
              "      <th>AMZN</th>\n",
              "      <th>GOOG</th>\n",
              "    </tr>\n",
              "    <tr>\n",
              "      <th>Date</th>\n",
              "      <th></th>\n",
              "      <th></th>\n",
              "      <th></th>\n",
              "    </tr>\n",
              "  </thead>\n",
              "  <tbody>\n",
              "    <tr>\n",
              "      <th>2006-03-08</th>\n",
              "      <td>0.187863</td>\n",
              "      <td>-0.036299</td>\n",
              "      <td>-0.056898</td>\n",
              "    </tr>\n",
              "    <tr>\n",
              "      <th>2006-03-09</th>\n",
              "      <td>-0.192930</td>\n",
              "      <td>-0.071556</td>\n",
              "      <td>-0.032195</td>\n",
              "    </tr>\n",
              "    <tr>\n",
              "      <th>2006-03-10</th>\n",
              "      <td>-0.037864</td>\n",
              "      <td>-0.363259</td>\n",
              "      <td>-0.069929</td>\n",
              "    </tr>\n",
              "    <tr>\n",
              "      <th>2006-03-13</th>\n",
              "      <td>-0.140134</td>\n",
              "      <td>0.404011</td>\n",
              "      <td>0.006016</td>\n",
              "    </tr>\n",
              "    <tr>\n",
              "      <th>2006-03-14</th>\n",
              "      <td>0.083749</td>\n",
              "      <td>0.035760</td>\n",
              "      <td>0.117836</td>\n",
              "    </tr>\n",
              "    <tr>\n",
              "      <th>...</th>\n",
              "      <td>...</td>\n",
              "      <td>...</td>\n",
              "      <td>...</td>\n",
              "    </tr>\n",
              "    <tr>\n",
              "      <th>2025-02-14</th>\n",
              "      <td>0.013711</td>\n",
              "      <td>-0.032565</td>\n",
              "      <td>0.019450</td>\n",
              "    </tr>\n",
              "    <tr>\n",
              "      <th>2025-02-18</th>\n",
              "      <td>-0.012449</td>\n",
              "      <td>0.027006</td>\n",
              "      <td>-0.027867</td>\n",
              "    </tr>\n",
              "    <tr>\n",
              "      <th>2025-02-19</th>\n",
              "      <td>0.011604</td>\n",
              "      <td>0.012923</td>\n",
              "      <td>0.018867</td>\n",
              "    </tr>\n",
              "    <tr>\n",
              "      <th>2025-02-20</th>\n",
              "      <td>0.000777</td>\n",
              "      <td>-0.000826</td>\n",
              "      <td>0.000551</td>\n",
              "    </tr>\n",
              "    <tr>\n",
              "      <th>2025-02-21</th>\n",
              "      <td>0.000777</td>\n",
              "      <td>-0.000826</td>\n",
              "      <td>0.000551</td>\n",
              "    </tr>\n",
              "  </tbody>\n",
              "</table>\n",
              "<p>4771 rows × 3 columns</p>\n",
              "</div>\n",
              "    <div class=\"colab-df-buttons\">\n",
              "\n",
              "  <div class=\"colab-df-container\">\n",
              "    <button class=\"colab-df-convert\" onclick=\"convertToInteractive('df-7bbec0d5-dafb-4cd8-ad1f-1d8df51bb6ef')\"\n",
              "            title=\"Convert this dataframe to an interactive table.\"\n",
              "            style=\"display:none;\">\n",
              "\n",
              "  <svg xmlns=\"http://www.w3.org/2000/svg\" height=\"24px\" viewBox=\"0 -960 960 960\">\n",
              "    <path d=\"M120-120v-720h720v720H120Zm60-500h600v-160H180v160Zm220 220h160v-160H400v160Zm0 220h160v-160H400v160ZM180-400h160v-160H180v160Zm440 0h160v-160H620v160ZM180-180h160v-160H180v160Zm440 0h160v-160H620v160Z\"/>\n",
              "  </svg>\n",
              "    </button>\n",
              "\n",
              "  <style>\n",
              "    .colab-df-container {\n",
              "      display:flex;\n",
              "      gap: 12px;\n",
              "    }\n",
              "\n",
              "    .colab-df-convert {\n",
              "      background-color: #E8F0FE;\n",
              "      border: none;\n",
              "      border-radius: 50%;\n",
              "      cursor: pointer;\n",
              "      display: none;\n",
              "      fill: #1967D2;\n",
              "      height: 32px;\n",
              "      padding: 0 0 0 0;\n",
              "      width: 32px;\n",
              "    }\n",
              "\n",
              "    .colab-df-convert:hover {\n",
              "      background-color: #E2EBFA;\n",
              "      box-shadow: 0px 1px 2px rgba(60, 64, 67, 0.3), 0px 1px 3px 1px rgba(60, 64, 67, 0.15);\n",
              "      fill: #174EA6;\n",
              "    }\n",
              "\n",
              "    .colab-df-buttons div {\n",
              "      margin-bottom: 4px;\n",
              "    }\n",
              "\n",
              "    [theme=dark] .colab-df-convert {\n",
              "      background-color: #3B4455;\n",
              "      fill: #D2E3FC;\n",
              "    }\n",
              "\n",
              "    [theme=dark] .colab-df-convert:hover {\n",
              "      background-color: #434B5C;\n",
              "      box-shadow: 0px 1px 3px 1px rgba(0, 0, 0, 0.15);\n",
              "      filter: drop-shadow(0px 1px 2px rgba(0, 0, 0, 0.3));\n",
              "      fill: #FFFFFF;\n",
              "    }\n",
              "  </style>\n",
              "\n",
              "    <script>\n",
              "      const buttonEl =\n",
              "        document.querySelector('#df-7bbec0d5-dafb-4cd8-ad1f-1d8df51bb6ef button.colab-df-convert');\n",
              "      buttonEl.style.display =\n",
              "        google.colab.kernel.accessAllowed ? 'block' : 'none';\n",
              "\n",
              "      async function convertToInteractive(key) {\n",
              "        const element = document.querySelector('#df-7bbec0d5-dafb-4cd8-ad1f-1d8df51bb6ef');\n",
              "        const dataTable =\n",
              "          await google.colab.kernel.invokeFunction('convertToInteractive',\n",
              "                                                    [key], {});\n",
              "        if (!dataTable) return;\n",
              "\n",
              "        const docLinkHtml = 'Like what you see? Visit the ' +\n",
              "          '<a target=\"_blank\" href=https://colab.research.google.com/notebooks/data_table.ipynb>data table notebook</a>'\n",
              "          + ' to learn more about interactive tables.';\n",
              "        element.innerHTML = '';\n",
              "        dataTable['output_type'] = 'display_data';\n",
              "        await google.colab.output.renderOutput(dataTable, element);\n",
              "        const docLink = document.createElement('div');\n",
              "        docLink.innerHTML = docLinkHtml;\n",
              "        element.appendChild(docLink);\n",
              "      }\n",
              "    </script>\n",
              "  </div>\n",
              "\n",
              "\n",
              "<div id=\"df-871e66de-6c3d-458d-9b83-f6d0d4db94f5\">\n",
              "  <button class=\"colab-df-quickchart\" onclick=\"quickchart('df-871e66de-6c3d-458d-9b83-f6d0d4db94f5')\"\n",
              "            title=\"Suggest charts\"\n",
              "            style=\"display:none;\">\n",
              "\n",
              "<svg xmlns=\"http://www.w3.org/2000/svg\" height=\"24px\"viewBox=\"0 0 24 24\"\n",
              "     width=\"24px\">\n",
              "    <g>\n",
              "        <path d=\"M19 3H5c-1.1 0-2 .9-2 2v14c0 1.1.9 2 2 2h14c1.1 0 2-.9 2-2V5c0-1.1-.9-2-2-2zM9 17H7v-7h2v7zm4 0h-2V7h2v10zm4 0h-2v-4h2v4z\"/>\n",
              "    </g>\n",
              "</svg>\n",
              "  </button>\n",
              "\n",
              "<style>\n",
              "  .colab-df-quickchart {\n",
              "      --bg-color: #E8F0FE;\n",
              "      --fill-color: #1967D2;\n",
              "      --hover-bg-color: #E2EBFA;\n",
              "      --hover-fill-color: #174EA6;\n",
              "      --disabled-fill-color: #AAA;\n",
              "      --disabled-bg-color: #DDD;\n",
              "  }\n",
              "\n",
              "  [theme=dark] .colab-df-quickchart {\n",
              "      --bg-color: #3B4455;\n",
              "      --fill-color: #D2E3FC;\n",
              "      --hover-bg-color: #434B5C;\n",
              "      --hover-fill-color: #FFFFFF;\n",
              "      --disabled-bg-color: #3B4455;\n",
              "      --disabled-fill-color: #666;\n",
              "  }\n",
              "\n",
              "  .colab-df-quickchart {\n",
              "    background-color: var(--bg-color);\n",
              "    border: none;\n",
              "    border-radius: 50%;\n",
              "    cursor: pointer;\n",
              "    display: none;\n",
              "    fill: var(--fill-color);\n",
              "    height: 32px;\n",
              "    padding: 0;\n",
              "    width: 32px;\n",
              "  }\n",
              "\n",
              "  .colab-df-quickchart:hover {\n",
              "    background-color: var(--hover-bg-color);\n",
              "    box-shadow: 0 1px 2px rgba(60, 64, 67, 0.3), 0 1px 3px 1px rgba(60, 64, 67, 0.15);\n",
              "    fill: var(--button-hover-fill-color);\n",
              "  }\n",
              "\n",
              "  .colab-df-quickchart-complete:disabled,\n",
              "  .colab-df-quickchart-complete:disabled:hover {\n",
              "    background-color: var(--disabled-bg-color);\n",
              "    fill: var(--disabled-fill-color);\n",
              "    box-shadow: none;\n",
              "  }\n",
              "\n",
              "  .colab-df-spinner {\n",
              "    border: 2px solid var(--fill-color);\n",
              "    border-color: transparent;\n",
              "    border-bottom-color: var(--fill-color);\n",
              "    animation:\n",
              "      spin 1s steps(1) infinite;\n",
              "  }\n",
              "\n",
              "  @keyframes spin {\n",
              "    0% {\n",
              "      border-color: transparent;\n",
              "      border-bottom-color: var(--fill-color);\n",
              "      border-left-color: var(--fill-color);\n",
              "    }\n",
              "    20% {\n",
              "      border-color: transparent;\n",
              "      border-left-color: var(--fill-color);\n",
              "      border-top-color: var(--fill-color);\n",
              "    }\n",
              "    30% {\n",
              "      border-color: transparent;\n",
              "      border-left-color: var(--fill-color);\n",
              "      border-top-color: var(--fill-color);\n",
              "      border-right-color: var(--fill-color);\n",
              "    }\n",
              "    40% {\n",
              "      border-color: transparent;\n",
              "      border-right-color: var(--fill-color);\n",
              "      border-top-color: var(--fill-color);\n",
              "    }\n",
              "    60% {\n",
              "      border-color: transparent;\n",
              "      border-right-color: var(--fill-color);\n",
              "    }\n",
              "    80% {\n",
              "      border-color: transparent;\n",
              "      border-right-color: var(--fill-color);\n",
              "      border-bottom-color: var(--fill-color);\n",
              "    }\n",
              "    90% {\n",
              "      border-color: transparent;\n",
              "      border-bottom-color: var(--fill-color);\n",
              "    }\n",
              "  }\n",
              "</style>\n",
              "\n",
              "  <script>\n",
              "    async function quickchart(key) {\n",
              "      const quickchartButtonEl =\n",
              "        document.querySelector('#' + key + ' button');\n",
              "      quickchartButtonEl.disabled = true;  // To prevent multiple clicks.\n",
              "      quickchartButtonEl.classList.add('colab-df-spinner');\n",
              "      try {\n",
              "        const charts = await google.colab.kernel.invokeFunction(\n",
              "            'suggestCharts', [key], {});\n",
              "      } catch (error) {\n",
              "        console.error('Error during call to suggestCharts:', error);\n",
              "      }\n",
              "      quickchartButtonEl.classList.remove('colab-df-spinner');\n",
              "      quickchartButtonEl.classList.add('colab-df-quickchart-complete');\n",
              "    }\n",
              "    (() => {\n",
              "      let quickchartButtonEl =\n",
              "        document.querySelector('#df-871e66de-6c3d-458d-9b83-f6d0d4db94f5 button');\n",
              "      quickchartButtonEl.style.display =\n",
              "        google.colab.kernel.accessAllowed ? 'block' : 'none';\n",
              "    })();\n",
              "  </script>\n",
              "</div>\n",
              "\n",
              "  <div id=\"id_be3e80be-49ff-40cd-aa12-ed3efd1bf741\">\n",
              "    <style>\n",
              "      .colab-df-generate {\n",
              "        background-color: #E8F0FE;\n",
              "        border: none;\n",
              "        border-radius: 50%;\n",
              "        cursor: pointer;\n",
              "        display: none;\n",
              "        fill: #1967D2;\n",
              "        height: 32px;\n",
              "        padding: 0 0 0 0;\n",
              "        width: 32px;\n",
              "      }\n",
              "\n",
              "      .colab-df-generate:hover {\n",
              "        background-color: #E2EBFA;\n",
              "        box-shadow: 0px 1px 2px rgba(60, 64, 67, 0.3), 0px 1px 3px 1px rgba(60, 64, 67, 0.15);\n",
              "        fill: #174EA6;\n",
              "      }\n",
              "\n",
              "      [theme=dark] .colab-df-generate {\n",
              "        background-color: #3B4455;\n",
              "        fill: #D2E3FC;\n",
              "      }\n",
              "\n",
              "      [theme=dark] .colab-df-generate:hover {\n",
              "        background-color: #434B5C;\n",
              "        box-shadow: 0px 1px 3px 1px rgba(0, 0, 0, 0.15);\n",
              "        filter: drop-shadow(0px 1px 2px rgba(0, 0, 0, 0.3));\n",
              "        fill: #FFFFFF;\n",
              "      }\n",
              "    </style>\n",
              "    <button class=\"colab-df-generate\" onclick=\"generateWithVariable('predicted_returns')\"\n",
              "            title=\"Generate code using this dataframe.\"\n",
              "            style=\"display:none;\">\n",
              "\n",
              "  <svg xmlns=\"http://www.w3.org/2000/svg\" height=\"24px\"viewBox=\"0 0 24 24\"\n",
              "       width=\"24px\">\n",
              "    <path d=\"M7,19H8.4L18.45,9,17,7.55,7,17.6ZM5,21V16.75L18.45,3.32a2,2,0,0,1,2.83,0l1.4,1.43a1.91,1.91,0,0,1,.58,1.4,1.91,1.91,0,0,1-.58,1.4L9.25,21ZM18.45,9,17,7.55Zm-12,3A5.31,5.31,0,0,0,4.9,8.1,5.31,5.31,0,0,0,1,6.5,5.31,5.31,0,0,0,4.9,4.9,5.31,5.31,0,0,0,6.5,1,5.31,5.31,0,0,0,8.1,4.9,5.31,5.31,0,0,0,12,6.5,5.46,5.46,0,0,0,6.5,12Z\"/>\n",
              "  </svg>\n",
              "    </button>\n",
              "    <script>\n",
              "      (() => {\n",
              "      const buttonEl =\n",
              "        document.querySelector('#id_be3e80be-49ff-40cd-aa12-ed3efd1bf741 button.colab-df-generate');\n",
              "      buttonEl.style.display =\n",
              "        google.colab.kernel.accessAllowed ? 'block' : 'none';\n",
              "\n",
              "      buttonEl.onclick = () => {\n",
              "        google.colab.notebook.generateWithVariable('predicted_returns');\n",
              "      }\n",
              "      })();\n",
              "    </script>\n",
              "  </div>\n",
              "\n",
              "    </div>\n",
              "  </div>\n"
            ],
            "application/vnd.google.colaboratory.intrinsic+json": {
              "type": "dataframe",
              "variable_name": "predicted_returns",
              "summary": "{\n  \"name\": \"predicted_returns\",\n  \"rows\": 4771,\n  \"fields\": [\n    {\n      \"column\": \"Date\",\n      \"properties\": {\n        \"dtype\": \"date\",\n        \"min\": \"2006-03-08 00:00:00\",\n        \"max\": \"2025-02-21 00:00:00\",\n        \"num_unique_values\": 4771,\n        \"samples\": [\n          \"2010-01-05 00:00:00\",\n          \"2021-01-15 00:00:00\",\n          \"2016-07-06 00:00:00\"\n        ],\n        \"semantic_type\": \"\",\n        \"description\": \"\"\n      }\n    },\n    {\n      \"column\": \"AAPL\",\n      \"properties\": {\n        \"dtype\": \"number\",\n        \"std\": 0.07508819192966817,\n        \"min\": -0.3695934832821337,\n        \"max\": 0.40648912030018813,\n        \"num_unique_values\": 4770,\n        \"samples\": [\n          0.038139835844536396,\n          -0.045771804345807965,\n          -0.03295307055692742\n        ],\n        \"semantic_type\": \"\",\n        \"description\": \"\"\n      }\n    },\n    {\n      \"column\": \"AMZN\",\n      \"properties\": {\n        \"dtype\": \"number\",\n        \"std\": 0.252472294889843,\n        \"min\": -3.0754483793545804,\n        \"max\": 4.885897834949603,\n        \"num_unique_values\": 4761,\n        \"samples\": [\n          -0.12239339838753205,\n          0.12220620973425267,\n          -0.0870805580964249\n        ],\n        \"semantic_type\": \"\",\n        \"description\": \"\"\n      }\n    },\n    {\n      \"column\": \"GOOG\",\n      \"properties\": {\n        \"dtype\": \"number\",\n        \"std\": 0.049168817518861235,\n        \"min\": -0.2402844283431964,\n        \"max\": 0.18940030601224755,\n        \"num_unique_values\": 4770,\n        \"samples\": [\n          0.07262597070801746,\n          -0.013352622229846567,\n          0.08467045602342971\n        ],\n        \"semantic_type\": \"\",\n        \"description\": \"\"\n      }\n    }\n  ]\n}"
            }
          },
          "metadata": {},
          "execution_count": 56
        }
      ]
    },
    {
      "cell_type": "markdown",
      "metadata": {
        "id": "yB3dT_9gI3jI"
      },
      "source": [
        "### Comparisons\n",
        "Comparing the predicted returns(orange) to the actual returns(blue) for ADP\n"
      ]
    },
    {
      "cell_type": "code",
      "metadata": {
        "id": "9GVmAy0KnmEn"
      },
      "source": [
        "plt.plot(predicted_returns['ADP'],alpha = .3)\n",
        "plt.plot(actual_returns['ADP'],alpha = .5)\n",
        "plt.show()"
      ],
      "execution_count": null,
      "outputs": []
    },
    {
      "cell_type": "markdown",
      "metadata": {
        "id": "Ax9HO4xTJFhC"
      },
      "source": [
        "Comparing the predicted returns(orange) to the actual returns(blue) for AAPL"
      ]
    },
    {
      "cell_type": "code",
      "metadata": {
        "id": "bnqZpDkuJIbo"
      },
      "source": [
        "plt.plot(predicted_returns['AAPL'],alpha = .3)\n",
        "plt.plot(actual_returns['AAPL'],alpha = .5)\n",
        "plt.show()"
      ],
      "execution_count": null,
      "outputs": []
    },
    {
      "cell_type": "markdown",
      "metadata": {
        "id": "09gmV8Q_JRco"
      },
      "source": [
        "Heuristic for how 'accurately' the model predicts positive/negative returns over the course of the dataset"
      ]
    },
    {
      "cell_type": "code",
      "metadata": {
        "id": "udibGn86pluv"
      },
      "source": [
        "temp1 = predicted_returns.to_numpy()\n",
        "temp2 = actual_returns.to_numpy()"
      ],
      "execution_count": null,
      "outputs": []
    },
    {
      "cell_type": "code",
      "metadata": {
        "id": "vUrad4NvpvjM"
      },
      "source": [
        "correct_counter = 0\n",
        "total = 0\n",
        "for j in range(predicted_returns.shape[1]):\n",
        "  stock = j\n",
        "  for i in range(temp1.shape[0]):\n",
        "    if(temp1[i,stock] >= 0 and temp2[i, stock] >=0):\n",
        "      correct_counter+=1\n",
        "      total+=1\n",
        "    elif(temp1[i,stock] < 0 and temp2[i, stock] < 0):\n",
        "      correct_counter+=1\n",
        "      total+=1\n",
        "    else:\n",
        "      total+=1"
      ],
      "execution_count": null,
      "outputs": []
    },
    {
      "cell_type": "code",
      "metadata": {
        "id": "f6vbLwR4qWSz"
      },
      "source": [
        "print(\"Correct: \", correct_counter)\n",
        "print(\"Wrong: \" , total-correct_counter)\n",
        "print(\"%Correct \", correct_counter/total)"
      ],
      "execution_count": null,
      "outputs": []
    },
    {
      "cell_type": "markdown",
      "metadata": {
        "id": "rokyW_TOJlRO"
      },
      "source": [
        "# Creation of subsamples"
      ]
    },
    {
      "cell_type": "markdown",
      "metadata": {
        "id": "DYaSkhAGP46j"
      },
      "source": [
        "### Function"
      ]
    },
    {
      "cell_type": "code",
      "metadata": {
        "id": "HHVG7eExJqZC"
      },
      "source": [
        "from datetime import timedelta\n",
        "from dateutil.parser import parse\n",
        "\n",
        "def monthdelta(date, delta):\n",
        "    m, y = (date.month+delta) % 12, date.year + ((date.month)+delta-1) // 12\n",
        "    if not m: m = 12\n",
        "    d = min(date.day, [31,\n",
        "        29 if y%4==0 and not y%400==0 else 28,31,30,31,30,31,31,30,31,30,31][m-1])\n",
        "    new_date = (date.replace(day=d,month=m, year=y))\n",
        "    return parse(new_date.strftime('%Y-%m-%d'))\n",
        "\n",
        "def epochGenerator (dataframe, lookback, horizon,\n",
        "                    step, cummulative = False):\n",
        "\n",
        "#takes pandas dataframe with DatetimeIndex\n",
        "\n",
        "    if cummulative:\n",
        "        c = lookback\n",
        "        step = horizon\n",
        "\n",
        "    initial = min(dataframe.index)\n",
        "    windows = []\n",
        "    horizons = []\n",
        "\n",
        "    while initial <= monthdelta(max(dataframe.index), -lookback):\n",
        "        windowStart = initial\n",
        "        windowEnd = monthdelta(windowStart, lookback)\n",
        "        if cummulative:\n",
        "            windowStart = min(dataframe.index)\n",
        "            windowEnd = monthdelta(windowStart, c) + timedelta(days=1)\n",
        "            c += horizon\n",
        "        horizonStart = windowEnd + timedelta(days=1)\n",
        "        horizonEnd = monthdelta(horizonStart, horizon)\n",
        "\n",
        "        lookbackWindow = dataframe[windowStart:windowEnd]\n",
        "        horizonWindow = dataframe[horizonStart:horizonEnd]\n",
        "\n",
        "        windows.append(lookbackWindow)\n",
        "        horizons.append(horizonWindow)\n",
        "\n",
        "        initial = monthdelta(initial, step)\n",
        "\n",
        "    return windows, horizons"
      ],
      "execution_count": null,
      "outputs": []
    },
    {
      "cell_type": "markdown",
      "metadata": {
        "id": "u-63xP_6P82P"
      },
      "source": [
        "### Subsamples by month for actual and predicted returns"
      ]
    },
    {
      "cell_type": "code",
      "metadata": {
        "id": "G6eCTw-WJvJY"
      },
      "source": [
        "actual_windows, actual_horizons = epochGenerator(actual_returns, 12, 1, 1)\n",
        "predicted_windows, predicted_horizons = epochGenerator(predicted_returns, 12,1,1)"
      ],
      "execution_count": null,
      "outputs": []
    },
    {
      "cell_type": "code",
      "metadata": {
        "id": "O-od3So4QUhV"
      },
      "source": [
        "actual_windows[0].shape"
      ],
      "execution_count": null,
      "outputs": []
    },
    {
      "cell_type": "markdown",
      "metadata": {
        "id": "kGh_RW_v7vQO"
      },
      "source": [
        "# Stock Allocation: Scipy Optimize (Method 1)\n",
        "- Aux functions (Mean Returns)\n",
        "- Solving for portfolio weights"
      ]
    },
    {
      "cell_type": "code",
      "metadata": {
        "id": "uO5tbjwlAvMR"
      },
      "source": [
        "#Mean Returns function\n",
        "def mean_returns(df, length):\n",
        "  mu = df.sum(axis = 0)/length\n",
        "  return mu"
      ],
      "execution_count": null,
      "outputs": []
    },
    {
      "cell_type": "markdown",
      "metadata": {
        "id": "22O-NYtAGik0"
      },
      "source": [
        "### Optimizing for this predicted portfolio\n",
        "- Using the predicted stock prices, what would be the optimal weight/ratio of the portfolio that would give the maximum return/minimal variance?"
      ]
    },
    {
      "cell_type": "markdown",
      "metadata": {
        "id": "M_KVH1i5Uio6"
      },
      "source": [
        "### Version for predicted stock prices"
      ]
    },
    {
      "cell_type": "markdown",
      "metadata": {
        "id": "pgl6mnCjU77-"
      },
      "source": [
        "**Actual Returns**  \n",
        "Actual returns signifies the returns that we would have actually generated based on the weights calculated with the *predicted stock prices*\n",
        "\n",
        "**Predicted Returns**   \n",
        "Predicted returns signifies the returns that we predict that we will generate based on the stock prices\n",
        "\n",
        "**Why calculate predicted stock prices?**  \n",
        "If the stock prices can be accurately predicted, we can anticipate which stocks will rise and decline - thus we can place a heavier weighting on the best performing stocks\n"
      ]
    },
    {
      "cell_type": "code",
      "metadata": {
        "id": "XV4aGu7uQJWI"
      },
      "source": [
        "from scipy.optimize import minimize, Bounds, LinearConstraint\n",
        "from numpy.linalg import norm\n",
        "\n",
        "def actual_return(actual_returns, w):\n",
        "  actual_returns = actual_returns\n",
        "  mean_return = mean_returns(actual_returns, actual_returns.shape[0])\n",
        "  actual_covariance = actual_returns.cov()\n",
        "\n",
        "  portfolio_returns = mean_return.T.dot(w)\n",
        "  portfolio_variance = w.T.dot(actual_covariance).dot(w)\n",
        "  return portfolio_returns, portfolio_variance\n",
        "\n",
        "\n",
        "#Input entire predicted returns df, starting date, and length to hold portfolio (forwards)\n",
        "def optimize_weights(predicted_returns, actual_returns, lam1, lam2):\n",
        "  mean_return = mean_returns(predicted_returns, predicted_returns.shape[0])\n",
        "  predicted_covariance = predicted_returns.cov()\n",
        "\n",
        "  #Cost Function\n",
        "  def f(w):\n",
        "    return -(mean_return.T.dot(w) - lam1*(w.T.dot(predicted_covariance).dot(w)) + lam2*norm(w, ord=1))\n",
        "\n",
        "  #Bounds of Weights\n",
        "  opt_bounds = Bounds(0, 1)\n",
        "\n",
        "  #Equality Constraints\n",
        "  def h(w):\n",
        "    return sum(w) - 1\n",
        "\n",
        "  #Constraints Dictionary\n",
        "  cons = ({\n",
        "      'type' : 'eq',\n",
        "      'fun' : lambda w: h(w)\n",
        "  })\n",
        "\n",
        "  #Solver\n",
        "  sol = minimize(f,\n",
        "                 x0 = np.ones(mean_return.shape[0]),\n",
        "                 constraints = cons,\n",
        "                 bounds = opt_bounds,\n",
        "                 options = {'disp': False},\n",
        "                 tol=10e-10)\n",
        "\n",
        "\n",
        "  #Predicted Results\n",
        "  w = sol.x\n",
        "  predicted_portfolio_returns = w.dot(mean_return)\n",
        "  portfolio_STD = w.T.dot(predicted_covariance).dot(w)\n",
        "\n",
        "  #Actual Results\n",
        "  portfolio_actual_returns, portfolio_actual_variance = actual_return(actual_returns, w)\n",
        "\n",
        "  ret_dict = {'weights' : w,\n",
        "              'predicted_returns' : predicted_portfolio_returns,\n",
        "              'predicted_variance' : portfolio_STD,\n",
        "              'actual_returns' : portfolio_actual_returns,\n",
        "              'actual_variance' : portfolio_actual_variance}\n",
        "\n",
        "  return ret_dict"
      ],
      "execution_count": null,
      "outputs": []
    },
    {
      "cell_type": "code",
      "metadata": {
        "id": "SUpZjQ08YOoc"
      },
      "source": [
        "act_rets = []\n",
        "pred_rets = []\n",
        "act_var  = []\n",
        "pred_var = []\n",
        "\n",
        "for i in range(20):\n",
        "  opt = optimize_weights(predicted_horizons[i], actual_horizons[i], 0 , 0)\n",
        "  act_rets.append(opt['actual_returns'])\n",
        "  pred_rets.append(opt['predicted_returns'])\n",
        "  act_var.append(opt['actual_variance'])\n",
        "  pred_var.append(opt['predicted_variance'])\n",
        "  print(\"Horizon\", i)"
      ],
      "execution_count": null,
      "outputs": []
    },
    {
      "cell_type": "code",
      "metadata": {
        "id": "AsqJd8UHpHLg"
      },
      "source": [
        "timestamps = []\n",
        "for i in range(20):\n",
        "  time = actual_horizons[i].index[0]\n",
        "  timestamps.append(time)\n",
        "\n",
        "act_rets = pd.DataFrame(data = act_rets, columns = ['Returns'], index=timestamps)\n",
        "pred_rets = pd.DataFrame(data = pred_rets, columns = ['Returns'], index=timestamps)"
      ],
      "execution_count": null,
      "outputs": []
    },
    {
      "cell_type": "markdown",
      "metadata": {
        "id": "fTTLZyXgscpO"
      },
      "source": [
        "## Diagnostics Plots"
      ]
    },
    {
      "cell_type": "code",
      "metadata": {
        "id": "gDYkT4zlp7Vo"
      },
      "source": [
        "diagnostics(act_rets, False)\n",
        "diagnostics(pred_rets, True)"
      ],
      "execution_count": null,
      "outputs": []
    },
    {
      "cell_type": "markdown",
      "metadata": {
        "id": "yo4Adao2Ucfd"
      },
      "source": [
        "### Tangent Code: Version for non-predicted stock prices"
      ]
    },
    {
      "cell_type": "code",
      "metadata": {
        "id": "3RbKzB3lAYTk"
      },
      "source": [
        "# from scipy.optimize import minimize, Bounds, LinearConstraint\n",
        "# from numpy.linalg import norm\n",
        "\n",
        "# #Input entire predicted returns df, starting date, and length to hold portfolio (forwards)\n",
        "# def optimize_weights(predicted_returns, lam1, lam2, start, forwards):\n",
        "#   predicted_returns = predicted_returns.iloc[start:start+forwards,:]\n",
        "#   mean_return = mean_returns(predicted_returns, forwards)\n",
        "#   predicted_covariance = predicted_returns.cov()\n",
        "\n",
        "#   #Cost Function\n",
        "#   def f(w):\n",
        "#     return -(mean_return.T.dot(w) - lam1*(w.T.dot(predicted_covariance).dot(w)) + lam2*norm(w, ord=1))\n",
        "\n",
        "#   #Bounds of Weights\n",
        "#   opt_bounds = Bounds(0, 1)\n",
        "\n",
        "#   #Equality Constraints\n",
        "#   def h(w):\n",
        "#     return sum(w) - 1\n",
        "\n",
        "#   #Constraints Dictionary\n",
        "#   cons = ({\n",
        "#       'type' : 'eq',\n",
        "#       'fun' : lambda w: h(w)\n",
        "#   })\n",
        "\n",
        "#   #Solver\n",
        "#   sol = minimize(f,\n",
        "#                  x0 = np.ones(mean_return.shape[0]),\n",
        "#                  constraints = cons,\n",
        "#                  bounds = opt_bounds,\n",
        "#                  options = {'disp': False},\n",
        "#                  tol=10e-10)\n",
        "\n",
        "\n",
        "#   #Train Results\n",
        "#   w = sol.x\n",
        "#   portfolio_returns = w.dot(mean_return)\n",
        "#   portfolio_STD = w.T.dot(predicted_covariance).dot(w)\n",
        "#   return w\n",
        "\n",
        "# w = optimize_weights(predicted_returns,.5, 1, 10, 30)\n",
        "\n",
        "\n",
        "# def actual_return(actual_returns, w, start, forwards):\n",
        "#   actual_returns = actual_returns.iloc\n",
        "#   mean_return = mean_returns(actual_returns, forwards)\n",
        "#   actual_covariance = actual_returns.cov()\n",
        "\n",
        "#   portfolio_returns = mean_return.T.dot(w)\n",
        "#   return portfolio_returns"
      ],
      "execution_count": null,
      "outputs": []
    },
    {
      "cell_type": "markdown",
      "metadata": {
        "id": "7yZq0QP-JgdB"
      },
      "source": [
        "### Performance\n",
        "- Given $1000, how much would the portfolio grow/decline over 10+ years?\n",
        "- How does this compare to investing in the S&P 500?"
      ]
    },
    {
      "cell_type": "code",
      "metadata": {
        "id": "afTTyAToJ3Ny"
      },
      "source": [
        "# portfolio_value = 1000\n",
        "starting_day = 500\n",
        "last_day = 200\n",
        "portfolio_values = [1000]\n",
        "growth_list = []\n",
        "\n",
        "for i in range(1,int(last_day/30)):\n",
        "  w = optimize_weights(predicted_returns, .5, 100, starting_day, 30)\n",
        "  growth = actual_return(actual_returns, w, starting_day, 30)\n",
        "  print(\" Month: \",  int(starting_day/30)+1, '/' , int(last_day/30))\n",
        "  print(\"Growth: \", (1+growth))\n",
        "  print()\n",
        "  growth_list.append(growth)\n",
        "  portfolio_values.append(portfolio_values[i-1] * (1+growth))\n",
        "  starting_day += 30"
      ],
      "execution_count": null,
      "outputs": []
    },
    {
      "cell_type": "code",
      "metadata": {
        "id": "oI3Jk2-hNrDg"
      },
      "source": [
        "portfolio_values"
      ],
      "execution_count": null,
      "outputs": []
    },
    {
      "cell_type": "markdown",
      "metadata": {
        "id": "eFf4eI1oGeoQ"
      },
      "source": [
        "# Stock Allocation: Montecarlo Simulation (Method 2)"
      ]
    },
    {
      "cell_type": "code",
      "metadata": {
        "id": "PxuS1jTrGd-k"
      },
      "source": [
        "def Montecarlo(train_dataset):\n",
        "  Rf = 0 #risk free\n",
        "  n = 100000 # total portfolios\n",
        "  np.random.seed(11304)\n",
        "  W = np.zeros((n,len(train_dataset.columns))) #will store asset allocation for each of the portfolios\n",
        "  Rp = np.zeros(n) #  will  store returns(daily) for each of the portfolios\n",
        "  std = np.zeros(n) # will store std for each of the portfolios\n",
        "  SR = np.zeros(n) # will store sharpe ratios for each of the portfolios\n",
        "  for i in range(n):\n",
        "      #w = np.random.random(382) #random weights for each of the stocks\n",
        "      #w = w /np.sum(w)\n",
        "      w = np.random.dirichlet(np.ones(382),size=1)\n",
        "\n",
        "      w = w[0]\n",
        "      W[i,:] = w # add to the asset allocation array\n",
        "      Rp[i] = (train_dataset.mean().dot(w)).sum()\n",
        "      std[i] = np.sqrt(np.dot(w.T, np.dot(train_dataset.cov(),w))) # 252 trading days\n",
        "      SR[i] = (Rp[i]-Rf)/std[i]\n",
        "\n",
        "\n",
        "  return {'Return of the Portfolio': Rp,\n",
        "            'Standard Deviation': std,\n",
        "            'Sharpe Ratio Achieved':SR,\n",
        "            'Weights':W}"
      ],
      "execution_count": null,
      "outputs": []
    },
    {
      "cell_type": "code",
      "metadata": {
        "id": "NBtHLGzbWrkD"
      },
      "source": [
        "n  = 10000\n",
        "MC = Montecarlo(actual_windows[0])\n",
        "SR_max = max(MC['Sharpe Ratio Achieved'])\n",
        "max_index = np.where(MC['Sharpe Ratio Achieved'] == SR_max)\n",
        "print(\"We randomly generated %d portfolios chosing different weigths for each of the 382 stocks.\"%n)\n",
        "print(\"Out of those\", n ,\"portfolios, the most efficient one reached a Sharpe Ratio of\", SR_max, \".\")\n",
        "print(\"It used the following asset allocation:\")\n",
        "print(MC['Return of the Portfolio'][max_index])"
      ],
      "execution_count": null,
      "outputs": []
    },
    {
      "cell_type": "code",
      "metadata": {
        "id": "Ej2pQ4tTDP_5"
      },
      "source": [
        "actual_windows[0].mean()"
      ],
      "execution_count": null,
      "outputs": []
    },
    {
      "cell_type": "code",
      "metadata": {
        "id": "pgGha-4ML5Fg"
      },
      "source": [
        "#-----------Intentionally Left Blank---------------#\n",
        "\n",
        "\n",
        "\n",
        "\n",
        "\n",
        "\n",
        "\n",
        "\n",
        "\n",
        "\n",
        "\n",
        "\n",
        "\n",
        "\n",
        "\n",
        "\n",
        "\n",
        "\n",
        "\n",
        "\n",
        "\n",
        "\n",
        "\n",
        "\n",
        "\n",
        "\n",
        "\n",
        "\n",
        "\n",
        "\n",
        "\n",
        "\n",
        "\n",
        "\n",
        "\n",
        "\n"
      ],
      "execution_count": null,
      "outputs": []
    },
    {
      "cell_type": "markdown",
      "metadata": {
        "id": "9rd3nUWFqBAW"
      },
      "source": [
        "# Diagnostics Function for Above Code\n",
        "\n",
        "Includes...\n",
        "- Equity Graph: *How much money would we make using our techniques?*\n",
        "- Drawbacks: *How much do we lose when our portfolio dips?*"
      ]
    },
    {
      "cell_type": "code",
      "metadata": {
        "id": "HsL-VgX9qC6R"
      },
      "source": [
        "def diagnostics(returns, is_pred):\n",
        "    if(is_pred == True):\n",
        "      col = 'red'\n",
        "    else:\n",
        "      col = 'green'\n",
        "\n",
        "    #Takes dataframe with DateIndex and Returns as only column\n",
        "\n",
        "    #Add row for calculation purpose\n",
        "    starting_point = pd.DataFrame([0], columns=['Returns'])\n",
        "    equity = starting_point.append(returns)\n",
        "\n",
        "    #-------------------Equity Graph-------------------#\n",
        "    '''Lazy way of Calculating Equity Value -- refactor if time allows\n",
        "    #Equity Val[t] = EquityVal[t-1] * (1 + returns[t])\n",
        "    #Equity Val[t=0] = 100 '''\n",
        "    returns_list = equity['Returns'].tolist()\n",
        "    equities = [0] * len(equity)\n",
        "    equities[0] = 100\n",
        "    for i in range(1, len(returns_list)):\n",
        "        equities[i] = equities[i-1] * (1 + returns_list[i])\n",
        "\n",
        "    equity['Equity'] = equities\n",
        "    equity.plot(y='Equity' , color = 'green')\n",
        "\n",
        "    #---------------------Drawbacks---------------------#\n",
        "    '''\n",
        "    Measure of PAIN\n",
        "    Drawback is the percentage loss from your previous all time high\n",
        "    Drawback = -(PrevEQ_max - currEQ)/PrevEQ_max\n",
        "    Note that most time a portfolio is in a drawdown\n",
        "    What matters is how DEEP and how LONG until you are back up\n",
        "    '''\n",
        "\n",
        "    rolling_max = [0] * len(equities)\n",
        "    for i in range(1, len(equities)):\n",
        "        rolling_max[i] = max(equities[:i])\n",
        "\n",
        "    drawbacks = [0] * len(equities)\n",
        "    for i in range(1, len(equities)):\n",
        "        drawbacks[i] = -(rolling_max[i] - equities[i])/rolling_max[i]\n",
        "\n",
        "    #Always important to keep track of max Drawback i.e How deep\n",
        "    max_Drawback = max(drawbacks)\n",
        "\n",
        "    equity['Drawback'] = drawbacks\n",
        "    equity.plot(y='Drawback')"
      ],
      "execution_count": null,
      "outputs": []
    },
    {
      "cell_type": "markdown",
      "metadata": {
        "id": "NQ94Ak18tPfg"
      },
      "source": [
        "# Paper Layout\n",
        "\n",
        "### Data Manipulation\n",
        "##### Data Gathering\n",
        "- Calculate Returns(Discrete/Simple & Log Returns)\n",
        "- Standardize log returns    \n",
        "\n",
        "##### Train/Split\n",
        "- [0+lookback : Last Day]\n",
        "- Lookback = 1 year\n",
        "- Hold = 1 month\n",
        "\n",
        "### Base Models (Model 1)\n",
        "- Montecarlo, Scipy optimize & Gradient Descent\n",
        "- Optimize for min variance/Sharpe ratio\n",
        "- Loss function derivation\n",
        "- *Uses historical mean returns to predict the future*\n",
        "- Inputs : Standarized log returns\n",
        "- Outputs: Weights @each timestep\n",
        "\n",
        "### Predicting Stock Prices (Model 1 extension)\n",
        "- LSTM model to predict stock prices\n",
        "- Normalizes stock prices\n",
        "- Predict future prices\n",
        "- Calculate returns as done previously (log returns)\n",
        "- *The effectiveness of predicting the stock prices*\n",
        "- LSTM Input: Standardized stock prices\n",
        "- LSTM Output: Predicted Stock Prices\n",
        "- Apply 3 base models & compare\n",
        "\n",
        "\n"
      ]
    }
  ]
}